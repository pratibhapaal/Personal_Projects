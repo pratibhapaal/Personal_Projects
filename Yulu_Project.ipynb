{
  "nbformat": 4,
  "nbformat_minor": 0,
  "metadata": {
    "colab": {
      "provenance": []
    },
    "kernelspec": {
      "name": "python3",
      "display_name": "Python 3"
    },
    "language_info": {
      "name": "python"
    }
  },
  "cells": [
    {
      "cell_type": "code",
      "source": [
        "import numpy as np\n",
        "import pandas as pd\n",
        "import matplotlib.pyplot as plt\n",
        "import seaborn as sns\n",
        "from scipy.stats import shapiro\n",
        "from scipy.stats import levene\n",
        "from scipy.stats import ttest_ind\n",
        "from scipy.stats import f_oneway\n",
        "from scipy.stats import chi2_contingency"
      ],
      "metadata": {
        "id": "8BiAwE5P7Kyv"
      },
      "execution_count": null,
      "outputs": []
    },
    {
      "cell_type": "code",
      "source": [
        "#Download the dataset\n",
        "! gdown 1ehJWggOd4gCT2lG-o0bmmGPEGYuwvDN0"
      ],
      "metadata": {
        "id": "HFkxGfrRvfOT",
        "colab": {
          "base_uri": "https://localhost:8080/"
        },
        "outputId": "029d3a6f-723b-46bc-9a7b-cf3b3b3cff64"
      },
      "execution_count": null,
      "outputs": [
        {
          "output_type": "stream",
          "name": "stdout",
          "text": [
            "Downloading...\n",
            "From: https://drive.google.com/uc?id=1ehJWggOd4gCT2lG-o0bmmGPEGYuwvDN0\n",
            "To: /content/Yulu.csv\n",
            "\r  0% 0.00/648k [00:00<?, ?B/s]\r 81% 524k/648k [00:00<00:00, 4.59MB/s]\r100% 648k/648k [00:00<00:00, 5.34MB/s]\n"
          ]
        }
      ]
    },
    {
      "cell_type": "code",
      "source": [
        "#Read and view the data\n",
        "df=pd.read_csv('Yulu.csv')\n",
        "df.head()"
      ],
      "metadata": {
        "id": "bVUJfqayvi4L",
        "colab": {
          "base_uri": "https://localhost:8080/",
          "height": 206
        },
        "outputId": "e596de34-abab-4259-8383-aa3da749d92c"
      },
      "execution_count": null,
      "outputs": [
        {
          "output_type": "execute_result",
          "data": {
            "text/plain": [
              "              datetime  season  holiday  workingday  weather  temp   atemp  \\\n",
              "0  2011-01-01 00:00:00       1        0           0        1  9.84  14.395   \n",
              "1  2011-01-01 01:00:00       1        0           0        1  9.02  13.635   \n",
              "2  2011-01-01 02:00:00       1        0           0        1  9.02  13.635   \n",
              "3  2011-01-01 03:00:00       1        0           0        1  9.84  14.395   \n",
              "4  2011-01-01 04:00:00       1        0           0        1  9.84  14.395   \n",
              "\n",
              "   humidity  windspeed  casual  registered  count  \n",
              "0        81        0.0       3          13     16  \n",
              "1        80        0.0       8          32     40  \n",
              "2        80        0.0       5          27     32  \n",
              "3        75        0.0       3          10     13  \n",
              "4        75        0.0       0           1      1  "
            ],
            "text/html": [
              "\n",
              "\n",
              "  <div id=\"df-36894b3a-9847-427f-8df6-3d06f5e8a7a2\">\n",
              "    <div class=\"colab-df-container\">\n",
              "      <div>\n",
              "<style scoped>\n",
              "    .dataframe tbody tr th:only-of-type {\n",
              "        vertical-align: middle;\n",
              "    }\n",
              "\n",
              "    .dataframe tbody tr th {\n",
              "        vertical-align: top;\n",
              "    }\n",
              "\n",
              "    .dataframe thead th {\n",
              "        text-align: right;\n",
              "    }\n",
              "</style>\n",
              "<table border=\"1\" class=\"dataframe\">\n",
              "  <thead>\n",
              "    <tr style=\"text-align: right;\">\n",
              "      <th></th>\n",
              "      <th>datetime</th>\n",
              "      <th>season</th>\n",
              "      <th>holiday</th>\n",
              "      <th>workingday</th>\n",
              "      <th>weather</th>\n",
              "      <th>temp</th>\n",
              "      <th>atemp</th>\n",
              "      <th>humidity</th>\n",
              "      <th>windspeed</th>\n",
              "      <th>casual</th>\n",
              "      <th>registered</th>\n",
              "      <th>count</th>\n",
              "    </tr>\n",
              "  </thead>\n",
              "  <tbody>\n",
              "    <tr>\n",
              "      <th>0</th>\n",
              "      <td>2011-01-01 00:00:00</td>\n",
              "      <td>1</td>\n",
              "      <td>0</td>\n",
              "      <td>0</td>\n",
              "      <td>1</td>\n",
              "      <td>9.84</td>\n",
              "      <td>14.395</td>\n",
              "      <td>81</td>\n",
              "      <td>0.0</td>\n",
              "      <td>3</td>\n",
              "      <td>13</td>\n",
              "      <td>16</td>\n",
              "    </tr>\n",
              "    <tr>\n",
              "      <th>1</th>\n",
              "      <td>2011-01-01 01:00:00</td>\n",
              "      <td>1</td>\n",
              "      <td>0</td>\n",
              "      <td>0</td>\n",
              "      <td>1</td>\n",
              "      <td>9.02</td>\n",
              "      <td>13.635</td>\n",
              "      <td>80</td>\n",
              "      <td>0.0</td>\n",
              "      <td>8</td>\n",
              "      <td>32</td>\n",
              "      <td>40</td>\n",
              "    </tr>\n",
              "    <tr>\n",
              "      <th>2</th>\n",
              "      <td>2011-01-01 02:00:00</td>\n",
              "      <td>1</td>\n",
              "      <td>0</td>\n",
              "      <td>0</td>\n",
              "      <td>1</td>\n",
              "      <td>9.02</td>\n",
              "      <td>13.635</td>\n",
              "      <td>80</td>\n",
              "      <td>0.0</td>\n",
              "      <td>5</td>\n",
              "      <td>27</td>\n",
              "      <td>32</td>\n",
              "    </tr>\n",
              "    <tr>\n",
              "      <th>3</th>\n",
              "      <td>2011-01-01 03:00:00</td>\n",
              "      <td>1</td>\n",
              "      <td>0</td>\n",
              "      <td>0</td>\n",
              "      <td>1</td>\n",
              "      <td>9.84</td>\n",
              "      <td>14.395</td>\n",
              "      <td>75</td>\n",
              "      <td>0.0</td>\n",
              "      <td>3</td>\n",
              "      <td>10</td>\n",
              "      <td>13</td>\n",
              "    </tr>\n",
              "    <tr>\n",
              "      <th>4</th>\n",
              "      <td>2011-01-01 04:00:00</td>\n",
              "      <td>1</td>\n",
              "      <td>0</td>\n",
              "      <td>0</td>\n",
              "      <td>1</td>\n",
              "      <td>9.84</td>\n",
              "      <td>14.395</td>\n",
              "      <td>75</td>\n",
              "      <td>0.0</td>\n",
              "      <td>0</td>\n",
              "      <td>1</td>\n",
              "      <td>1</td>\n",
              "    </tr>\n",
              "  </tbody>\n",
              "</table>\n",
              "</div>\n",
              "      <button class=\"colab-df-convert\" onclick=\"convertToInteractive('df-36894b3a-9847-427f-8df6-3d06f5e8a7a2')\"\n",
              "              title=\"Convert this dataframe to an interactive table.\"\n",
              "              style=\"display:none;\">\n",
              "\n",
              "  <svg xmlns=\"http://www.w3.org/2000/svg\" height=\"24px\"viewBox=\"0 0 24 24\"\n",
              "       width=\"24px\">\n",
              "    <path d=\"M0 0h24v24H0V0z\" fill=\"none\"/>\n",
              "    <path d=\"M18.56 5.44l.94 2.06.94-2.06 2.06-.94-2.06-.94-.94-2.06-.94 2.06-2.06.94zm-11 1L8.5 8.5l.94-2.06 2.06-.94-2.06-.94L8.5 2.5l-.94 2.06-2.06.94zm10 10l.94 2.06.94-2.06 2.06-.94-2.06-.94-.94-2.06-.94 2.06-2.06.94z\"/><path d=\"M17.41 7.96l-1.37-1.37c-.4-.4-.92-.59-1.43-.59-.52 0-1.04.2-1.43.59L10.3 9.45l-7.72 7.72c-.78.78-.78 2.05 0 2.83L4 21.41c.39.39.9.59 1.41.59.51 0 1.02-.2 1.41-.59l7.78-7.78 2.81-2.81c.8-.78.8-2.07 0-2.86zM5.41 20L4 18.59l7.72-7.72 1.47 1.35L5.41 20z\"/>\n",
              "  </svg>\n",
              "      </button>\n",
              "\n",
              "\n",
              "\n",
              "    <div id=\"df-6142a30f-6cfb-4745-91c6-9ed20cbf1ff9\">\n",
              "      <button class=\"colab-df-quickchart\" onclick=\"quickchart('df-6142a30f-6cfb-4745-91c6-9ed20cbf1ff9')\"\n",
              "              title=\"Suggest charts.\"\n",
              "              style=\"display:none;\">\n",
              "\n",
              "<svg xmlns=\"http://www.w3.org/2000/svg\" height=\"24px\"viewBox=\"0 0 24 24\"\n",
              "     width=\"24px\">\n",
              "    <g>\n",
              "        <path d=\"M19 3H5c-1.1 0-2 .9-2 2v14c0 1.1.9 2 2 2h14c1.1 0 2-.9 2-2V5c0-1.1-.9-2-2-2zM9 17H7v-7h2v7zm4 0h-2V7h2v10zm4 0h-2v-4h2v4z\"/>\n",
              "    </g>\n",
              "</svg>\n",
              "      </button>\n",
              "    </div>\n",
              "\n",
              "<style>\n",
              "  .colab-df-quickchart {\n",
              "    background-color: #E8F0FE;\n",
              "    border: none;\n",
              "    border-radius: 50%;\n",
              "    cursor: pointer;\n",
              "    display: none;\n",
              "    fill: #1967D2;\n",
              "    height: 32px;\n",
              "    padding: 0 0 0 0;\n",
              "    width: 32px;\n",
              "  }\n",
              "\n",
              "  .colab-df-quickchart:hover {\n",
              "    background-color: #E2EBFA;\n",
              "    box-shadow: 0px 1px 2px rgba(60, 64, 67, 0.3), 0px 1px 3px 1px rgba(60, 64, 67, 0.15);\n",
              "    fill: #174EA6;\n",
              "  }\n",
              "\n",
              "  [theme=dark] .colab-df-quickchart {\n",
              "    background-color: #3B4455;\n",
              "    fill: #D2E3FC;\n",
              "  }\n",
              "\n",
              "  [theme=dark] .colab-df-quickchart:hover {\n",
              "    background-color: #434B5C;\n",
              "    box-shadow: 0px 1px 3px 1px rgba(0, 0, 0, 0.15);\n",
              "    filter: drop-shadow(0px 1px 2px rgba(0, 0, 0, 0.3));\n",
              "    fill: #FFFFFF;\n",
              "  }\n",
              "</style>\n",
              "\n",
              "    <script>\n",
              "      async function quickchart(key) {\n",
              "        const containerElement = document.querySelector('#' + key);\n",
              "        const charts = await google.colab.kernel.invokeFunction(\n",
              "            'suggestCharts', [key], {});\n",
              "      }\n",
              "    </script>\n",
              "\n",
              "      <script>\n",
              "\n",
              "function displayQuickchartButton(domScope) {\n",
              "  let quickchartButtonEl =\n",
              "    domScope.querySelector('#df-6142a30f-6cfb-4745-91c6-9ed20cbf1ff9 button.colab-df-quickchart');\n",
              "  quickchartButtonEl.style.display =\n",
              "    google.colab.kernel.accessAllowed ? 'block' : 'none';\n",
              "}\n",
              "\n",
              "        displayQuickchartButton(document);\n",
              "      </script>\n",
              "      <style>\n",
              "    .colab-df-container {\n",
              "      display:flex;\n",
              "      flex-wrap:wrap;\n",
              "      gap: 12px;\n",
              "    }\n",
              "\n",
              "    .colab-df-convert {\n",
              "      background-color: #E8F0FE;\n",
              "      border: none;\n",
              "      border-radius: 50%;\n",
              "      cursor: pointer;\n",
              "      display: none;\n",
              "      fill: #1967D2;\n",
              "      height: 32px;\n",
              "      padding: 0 0 0 0;\n",
              "      width: 32px;\n",
              "    }\n",
              "\n",
              "    .colab-df-convert:hover {\n",
              "      background-color: #E2EBFA;\n",
              "      box-shadow: 0px 1px 2px rgba(60, 64, 67, 0.3), 0px 1px 3px 1px rgba(60, 64, 67, 0.15);\n",
              "      fill: #174EA6;\n",
              "    }\n",
              "\n",
              "    [theme=dark] .colab-df-convert {\n",
              "      background-color: #3B4455;\n",
              "      fill: #D2E3FC;\n",
              "    }\n",
              "\n",
              "    [theme=dark] .colab-df-convert:hover {\n",
              "      background-color: #434B5C;\n",
              "      box-shadow: 0px 1px 3px 1px rgba(0, 0, 0, 0.15);\n",
              "      filter: drop-shadow(0px 1px 2px rgba(0, 0, 0, 0.3));\n",
              "      fill: #FFFFFF;\n",
              "    }\n",
              "  </style>\n",
              "\n",
              "      <script>\n",
              "        const buttonEl =\n",
              "          document.querySelector('#df-36894b3a-9847-427f-8df6-3d06f5e8a7a2 button.colab-df-convert');\n",
              "        buttonEl.style.display =\n",
              "          google.colab.kernel.accessAllowed ? 'block' : 'none';\n",
              "\n",
              "        async function convertToInteractive(key) {\n",
              "          const element = document.querySelector('#df-36894b3a-9847-427f-8df6-3d06f5e8a7a2');\n",
              "          const dataTable =\n",
              "            await google.colab.kernel.invokeFunction('convertToInteractive',\n",
              "                                                     [key], {});\n",
              "          if (!dataTable) return;\n",
              "\n",
              "          const docLinkHtml = 'Like what you see? Visit the ' +\n",
              "            '<a target=\"_blank\" href=https://colab.research.google.com/notebooks/data_table.ipynb>data table notebook</a>'\n",
              "            + ' to learn more about interactive tables.';\n",
              "          element.innerHTML = '';\n",
              "          dataTable['output_type'] = 'display_data';\n",
              "          await google.colab.output.renderOutput(dataTable, element);\n",
              "          const docLink = document.createElement('div');\n",
              "          docLink.innerHTML = docLinkHtml;\n",
              "          element.appendChild(docLink);\n",
              "        }\n",
              "      </script>\n",
              "    </div>\n",
              "  </div>\n"
            ]
          },
          "metadata": {},
          "execution_count": 163
        }
      ]
    },
    {
      "cell_type": "code",
      "source": [
        "# Number of rows and columns\n",
        "df.shape"
      ],
      "metadata": {
        "id": "p-fhEC4Sw1hm",
        "colab": {
          "base_uri": "https://localhost:8080/"
        },
        "outputId": "f4e4ad9d-ed0e-4170-9814-322f362ff6a0"
      },
      "execution_count": null,
      "outputs": [
        {
          "output_type": "execute_result",
          "data": {
            "text/plain": [
              "(10886, 12)"
            ]
          },
          "metadata": {},
          "execution_count": 164
        }
      ]
    },
    {
      "cell_type": "markdown",
      "source": [
        "There are total 10886 rows and 12 columns in the dataset"
      ],
      "metadata": {
        "id": "dIdIt_TLoiMF"
      }
    },
    {
      "cell_type": "code",
      "source": [
        "#Basic information\n",
        "df.info()"
      ],
      "metadata": {
        "id": "9JA1iSlSvi6v",
        "colab": {
          "base_uri": "https://localhost:8080/"
        },
        "outputId": "acac97fe-7dd7-48dc-d2d6-5e85fe386efd"
      },
      "execution_count": null,
      "outputs": [
        {
          "output_type": "stream",
          "name": "stdout",
          "text": [
            "<class 'pandas.core.frame.DataFrame'>\n",
            "RangeIndex: 10886 entries, 0 to 10885\n",
            "Data columns (total 12 columns):\n",
            " #   Column      Non-Null Count  Dtype  \n",
            "---  ------      --------------  -----  \n",
            " 0   datetime    10886 non-null  object \n",
            " 1   season      10886 non-null  int64  \n",
            " 2   holiday     10886 non-null  int64  \n",
            " 3   workingday  10886 non-null  int64  \n",
            " 4   weather     10886 non-null  int64  \n",
            " 5   temp        10886 non-null  float64\n",
            " 6   atemp       10886 non-null  float64\n",
            " 7   humidity    10886 non-null  int64  \n",
            " 8   windspeed   10886 non-null  float64\n",
            " 9   casual      10886 non-null  int64  \n",
            " 10  registered  10886 non-null  int64  \n",
            " 11  count       10886 non-null  int64  \n",
            "dtypes: float64(3), int64(8), object(1)\n",
            "memory usage: 1020.7+ KB\n"
          ]
        }
      ]
    },
    {
      "cell_type": "markdown",
      "source": [
        "Datetime is in object format, we will have to convert it datetime format for further analysis like extraction of year, month, date etc."
      ],
      "metadata": {
        "id": "tF5LLFiuor1w"
      }
    },
    {
      "cell_type": "code",
      "source": [
        "#Basic statistical measurement\n",
        "df.describe()"
      ],
      "metadata": {
        "id": "YND3eDJOvi9b",
        "colab": {
          "base_uri": "https://localhost:8080/",
          "height": 301
        },
        "outputId": "33730639-ebf3-4242-a894-5c4fb251ac11"
      },
      "execution_count": null,
      "outputs": [
        {
          "output_type": "execute_result",
          "data": {
            "text/plain": [
              "             season       holiday    workingday       weather         temp  \\\n",
              "count  10886.000000  10886.000000  10886.000000  10886.000000  10886.00000   \n",
              "mean       2.506614      0.028569      0.680875      1.418427     20.23086   \n",
              "std        1.116174      0.166599      0.466159      0.633839      7.79159   \n",
              "min        1.000000      0.000000      0.000000      1.000000      0.82000   \n",
              "25%        2.000000      0.000000      0.000000      1.000000     13.94000   \n",
              "50%        3.000000      0.000000      1.000000      1.000000     20.50000   \n",
              "75%        4.000000      0.000000      1.000000      2.000000     26.24000   \n",
              "max        4.000000      1.000000      1.000000      4.000000     41.00000   \n",
              "\n",
              "              atemp      humidity     windspeed        casual    registered  \\\n",
              "count  10886.000000  10886.000000  10886.000000  10886.000000  10886.000000   \n",
              "mean      23.655084     61.886460     12.799395     36.021955    155.552177   \n",
              "std        8.474601     19.245033      8.164537     49.960477    151.039033   \n",
              "min        0.760000      0.000000      0.000000      0.000000      0.000000   \n",
              "25%       16.665000     47.000000      7.001500      4.000000     36.000000   \n",
              "50%       24.240000     62.000000     12.998000     17.000000    118.000000   \n",
              "75%       31.060000     77.000000     16.997900     49.000000    222.000000   \n",
              "max       45.455000    100.000000     56.996900    367.000000    886.000000   \n",
              "\n",
              "              count  \n",
              "count  10886.000000  \n",
              "mean     191.574132  \n",
              "std      181.144454  \n",
              "min        1.000000  \n",
              "25%       42.000000  \n",
              "50%      145.000000  \n",
              "75%      284.000000  \n",
              "max      977.000000  "
            ],
            "text/html": [
              "\n",
              "\n",
              "  <div id=\"df-6820153a-0677-4930-a7c5-fdf40bf44ae7\">\n",
              "    <div class=\"colab-df-container\">\n",
              "      <div>\n",
              "<style scoped>\n",
              "    .dataframe tbody tr th:only-of-type {\n",
              "        vertical-align: middle;\n",
              "    }\n",
              "\n",
              "    .dataframe tbody tr th {\n",
              "        vertical-align: top;\n",
              "    }\n",
              "\n",
              "    .dataframe thead th {\n",
              "        text-align: right;\n",
              "    }\n",
              "</style>\n",
              "<table border=\"1\" class=\"dataframe\">\n",
              "  <thead>\n",
              "    <tr style=\"text-align: right;\">\n",
              "      <th></th>\n",
              "      <th>season</th>\n",
              "      <th>holiday</th>\n",
              "      <th>workingday</th>\n",
              "      <th>weather</th>\n",
              "      <th>temp</th>\n",
              "      <th>atemp</th>\n",
              "      <th>humidity</th>\n",
              "      <th>windspeed</th>\n",
              "      <th>casual</th>\n",
              "      <th>registered</th>\n",
              "      <th>count</th>\n",
              "    </tr>\n",
              "  </thead>\n",
              "  <tbody>\n",
              "    <tr>\n",
              "      <th>count</th>\n",
              "      <td>10886.000000</td>\n",
              "      <td>10886.000000</td>\n",
              "      <td>10886.000000</td>\n",
              "      <td>10886.000000</td>\n",
              "      <td>10886.00000</td>\n",
              "      <td>10886.000000</td>\n",
              "      <td>10886.000000</td>\n",
              "      <td>10886.000000</td>\n",
              "      <td>10886.000000</td>\n",
              "      <td>10886.000000</td>\n",
              "      <td>10886.000000</td>\n",
              "    </tr>\n",
              "    <tr>\n",
              "      <th>mean</th>\n",
              "      <td>2.506614</td>\n",
              "      <td>0.028569</td>\n",
              "      <td>0.680875</td>\n",
              "      <td>1.418427</td>\n",
              "      <td>20.23086</td>\n",
              "      <td>23.655084</td>\n",
              "      <td>61.886460</td>\n",
              "      <td>12.799395</td>\n",
              "      <td>36.021955</td>\n",
              "      <td>155.552177</td>\n",
              "      <td>191.574132</td>\n",
              "    </tr>\n",
              "    <tr>\n",
              "      <th>std</th>\n",
              "      <td>1.116174</td>\n",
              "      <td>0.166599</td>\n",
              "      <td>0.466159</td>\n",
              "      <td>0.633839</td>\n",
              "      <td>7.79159</td>\n",
              "      <td>8.474601</td>\n",
              "      <td>19.245033</td>\n",
              "      <td>8.164537</td>\n",
              "      <td>49.960477</td>\n",
              "      <td>151.039033</td>\n",
              "      <td>181.144454</td>\n",
              "    </tr>\n",
              "    <tr>\n",
              "      <th>min</th>\n",
              "      <td>1.000000</td>\n",
              "      <td>0.000000</td>\n",
              "      <td>0.000000</td>\n",
              "      <td>1.000000</td>\n",
              "      <td>0.82000</td>\n",
              "      <td>0.760000</td>\n",
              "      <td>0.000000</td>\n",
              "      <td>0.000000</td>\n",
              "      <td>0.000000</td>\n",
              "      <td>0.000000</td>\n",
              "      <td>1.000000</td>\n",
              "    </tr>\n",
              "    <tr>\n",
              "      <th>25%</th>\n",
              "      <td>2.000000</td>\n",
              "      <td>0.000000</td>\n",
              "      <td>0.000000</td>\n",
              "      <td>1.000000</td>\n",
              "      <td>13.94000</td>\n",
              "      <td>16.665000</td>\n",
              "      <td>47.000000</td>\n",
              "      <td>7.001500</td>\n",
              "      <td>4.000000</td>\n",
              "      <td>36.000000</td>\n",
              "      <td>42.000000</td>\n",
              "    </tr>\n",
              "    <tr>\n",
              "      <th>50%</th>\n",
              "      <td>3.000000</td>\n",
              "      <td>0.000000</td>\n",
              "      <td>1.000000</td>\n",
              "      <td>1.000000</td>\n",
              "      <td>20.50000</td>\n",
              "      <td>24.240000</td>\n",
              "      <td>62.000000</td>\n",
              "      <td>12.998000</td>\n",
              "      <td>17.000000</td>\n",
              "      <td>118.000000</td>\n",
              "      <td>145.000000</td>\n",
              "    </tr>\n",
              "    <tr>\n",
              "      <th>75%</th>\n",
              "      <td>4.000000</td>\n",
              "      <td>0.000000</td>\n",
              "      <td>1.000000</td>\n",
              "      <td>2.000000</td>\n",
              "      <td>26.24000</td>\n",
              "      <td>31.060000</td>\n",
              "      <td>77.000000</td>\n",
              "      <td>16.997900</td>\n",
              "      <td>49.000000</td>\n",
              "      <td>222.000000</td>\n",
              "      <td>284.000000</td>\n",
              "    </tr>\n",
              "    <tr>\n",
              "      <th>max</th>\n",
              "      <td>4.000000</td>\n",
              "      <td>1.000000</td>\n",
              "      <td>1.000000</td>\n",
              "      <td>4.000000</td>\n",
              "      <td>41.00000</td>\n",
              "      <td>45.455000</td>\n",
              "      <td>100.000000</td>\n",
              "      <td>56.996900</td>\n",
              "      <td>367.000000</td>\n",
              "      <td>886.000000</td>\n",
              "      <td>977.000000</td>\n",
              "    </tr>\n",
              "  </tbody>\n",
              "</table>\n",
              "</div>\n",
              "      <button class=\"colab-df-convert\" onclick=\"convertToInteractive('df-6820153a-0677-4930-a7c5-fdf40bf44ae7')\"\n",
              "              title=\"Convert this dataframe to an interactive table.\"\n",
              "              style=\"display:none;\">\n",
              "\n",
              "  <svg xmlns=\"http://www.w3.org/2000/svg\" height=\"24px\"viewBox=\"0 0 24 24\"\n",
              "       width=\"24px\">\n",
              "    <path d=\"M0 0h24v24H0V0z\" fill=\"none\"/>\n",
              "    <path d=\"M18.56 5.44l.94 2.06.94-2.06 2.06-.94-2.06-.94-.94-2.06-.94 2.06-2.06.94zm-11 1L8.5 8.5l.94-2.06 2.06-.94-2.06-.94L8.5 2.5l-.94 2.06-2.06.94zm10 10l.94 2.06.94-2.06 2.06-.94-2.06-.94-.94-2.06-.94 2.06-2.06.94z\"/><path d=\"M17.41 7.96l-1.37-1.37c-.4-.4-.92-.59-1.43-.59-.52 0-1.04.2-1.43.59L10.3 9.45l-7.72 7.72c-.78.78-.78 2.05 0 2.83L4 21.41c.39.39.9.59 1.41.59.51 0 1.02-.2 1.41-.59l7.78-7.78 2.81-2.81c.8-.78.8-2.07 0-2.86zM5.41 20L4 18.59l7.72-7.72 1.47 1.35L5.41 20z\"/>\n",
              "  </svg>\n",
              "      </button>\n",
              "\n",
              "\n",
              "\n",
              "    <div id=\"df-71f3e606-a2f6-4cc9-ae10-941c3021ad97\">\n",
              "      <button class=\"colab-df-quickchart\" onclick=\"quickchart('df-71f3e606-a2f6-4cc9-ae10-941c3021ad97')\"\n",
              "              title=\"Suggest charts.\"\n",
              "              style=\"display:none;\">\n",
              "\n",
              "<svg xmlns=\"http://www.w3.org/2000/svg\" height=\"24px\"viewBox=\"0 0 24 24\"\n",
              "     width=\"24px\">\n",
              "    <g>\n",
              "        <path d=\"M19 3H5c-1.1 0-2 .9-2 2v14c0 1.1.9 2 2 2h14c1.1 0 2-.9 2-2V5c0-1.1-.9-2-2-2zM9 17H7v-7h2v7zm4 0h-2V7h2v10zm4 0h-2v-4h2v4z\"/>\n",
              "    </g>\n",
              "</svg>\n",
              "      </button>\n",
              "    </div>\n",
              "\n",
              "<style>\n",
              "  .colab-df-quickchart {\n",
              "    background-color: #E8F0FE;\n",
              "    border: none;\n",
              "    border-radius: 50%;\n",
              "    cursor: pointer;\n",
              "    display: none;\n",
              "    fill: #1967D2;\n",
              "    height: 32px;\n",
              "    padding: 0 0 0 0;\n",
              "    width: 32px;\n",
              "  }\n",
              "\n",
              "  .colab-df-quickchart:hover {\n",
              "    background-color: #E2EBFA;\n",
              "    box-shadow: 0px 1px 2px rgba(60, 64, 67, 0.3), 0px 1px 3px 1px rgba(60, 64, 67, 0.15);\n",
              "    fill: #174EA6;\n",
              "  }\n",
              "\n",
              "  [theme=dark] .colab-df-quickchart {\n",
              "    background-color: #3B4455;\n",
              "    fill: #D2E3FC;\n",
              "  }\n",
              "\n",
              "  [theme=dark] .colab-df-quickchart:hover {\n",
              "    background-color: #434B5C;\n",
              "    box-shadow: 0px 1px 3px 1px rgba(0, 0, 0, 0.15);\n",
              "    filter: drop-shadow(0px 1px 2px rgba(0, 0, 0, 0.3));\n",
              "    fill: #FFFFFF;\n",
              "  }\n",
              "</style>\n",
              "\n",
              "    <script>\n",
              "      async function quickchart(key) {\n",
              "        const containerElement = document.querySelector('#' + key);\n",
              "        const charts = await google.colab.kernel.invokeFunction(\n",
              "            'suggestCharts', [key], {});\n",
              "      }\n",
              "    </script>\n",
              "\n",
              "      <script>\n",
              "\n",
              "function displayQuickchartButton(domScope) {\n",
              "  let quickchartButtonEl =\n",
              "    domScope.querySelector('#df-71f3e606-a2f6-4cc9-ae10-941c3021ad97 button.colab-df-quickchart');\n",
              "  quickchartButtonEl.style.display =\n",
              "    google.colab.kernel.accessAllowed ? 'block' : 'none';\n",
              "}\n",
              "\n",
              "        displayQuickchartButton(document);\n",
              "      </script>\n",
              "      <style>\n",
              "    .colab-df-container {\n",
              "      display:flex;\n",
              "      flex-wrap:wrap;\n",
              "      gap: 12px;\n",
              "    }\n",
              "\n",
              "    .colab-df-convert {\n",
              "      background-color: #E8F0FE;\n",
              "      border: none;\n",
              "      border-radius: 50%;\n",
              "      cursor: pointer;\n",
              "      display: none;\n",
              "      fill: #1967D2;\n",
              "      height: 32px;\n",
              "      padding: 0 0 0 0;\n",
              "      width: 32px;\n",
              "    }\n",
              "\n",
              "    .colab-df-convert:hover {\n",
              "      background-color: #E2EBFA;\n",
              "      box-shadow: 0px 1px 2px rgba(60, 64, 67, 0.3), 0px 1px 3px 1px rgba(60, 64, 67, 0.15);\n",
              "      fill: #174EA6;\n",
              "    }\n",
              "\n",
              "    [theme=dark] .colab-df-convert {\n",
              "      background-color: #3B4455;\n",
              "      fill: #D2E3FC;\n",
              "    }\n",
              "\n",
              "    [theme=dark] .colab-df-convert:hover {\n",
              "      background-color: #434B5C;\n",
              "      box-shadow: 0px 1px 3px 1px rgba(0, 0, 0, 0.15);\n",
              "      filter: drop-shadow(0px 1px 2px rgba(0, 0, 0, 0.3));\n",
              "      fill: #FFFFFF;\n",
              "    }\n",
              "  </style>\n",
              "\n",
              "      <script>\n",
              "        const buttonEl =\n",
              "          document.querySelector('#df-6820153a-0677-4930-a7c5-fdf40bf44ae7 button.colab-df-convert');\n",
              "        buttonEl.style.display =\n",
              "          google.colab.kernel.accessAllowed ? 'block' : 'none';\n",
              "\n",
              "        async function convertToInteractive(key) {\n",
              "          const element = document.querySelector('#df-6820153a-0677-4930-a7c5-fdf40bf44ae7');\n",
              "          const dataTable =\n",
              "            await google.colab.kernel.invokeFunction('convertToInteractive',\n",
              "                                                     [key], {});\n",
              "          if (!dataTable) return;\n",
              "\n",
              "          const docLinkHtml = 'Like what you see? Visit the ' +\n",
              "            '<a target=\"_blank\" href=https://colab.research.google.com/notebooks/data_table.ipynb>data table notebook</a>'\n",
              "            + ' to learn more about interactive tables.';\n",
              "          element.innerHTML = '';\n",
              "          dataTable['output_type'] = 'display_data';\n",
              "          await google.colab.output.renderOutput(dataTable, element);\n",
              "          const docLink = document.createElement('div');\n",
              "          docLink.innerHTML = docLinkHtml;\n",
              "          element.appendChild(docLink);\n",
              "        }\n",
              "      </script>\n",
              "    </div>\n",
              "  </div>\n"
            ]
          },
          "metadata": {},
          "execution_count": 166
        }
      ]
    },
    {
      "cell_type": "code",
      "source": [
        "print('Mean of count of rental bikes=',df['count'].mean())\n",
        "print('Median of count of rental bikes=',df['count'].median())\n",
        "print('Mode of count of rental bikes=',df['count'].mode())"
      ],
      "metadata": {
        "colab": {
          "base_uri": "https://localhost:8080/"
        },
        "id": "aQp15DJ7o921",
        "outputId": "31059a08-a249-4aad-a383-458bdef58962"
      },
      "execution_count": null,
      "outputs": [
        {
          "output_type": "stream",
          "name": "stdout",
          "text": [
            "Mean of count of rental bikes= 191.57413191254824\n",
            "Median of count of rental bikes= 145.0\n",
            "Mode of count of rental bikes= 0    5\n",
            "Name: count, dtype: int64\n"
          ]
        }
      ]
    },
    {
      "cell_type": "code",
      "source": [
        "#Check duplicate entries\n",
        "df[df.duplicated]"
      ],
      "metadata": {
        "id": "SU_W4vIBvjAc",
        "colab": {
          "base_uri": "https://localhost:8080/",
          "height": 50
        },
        "outputId": "160ddf90-c84a-4a72-ac80-1c1c4677d6fc"
      },
      "execution_count": null,
      "outputs": [
        {
          "output_type": "execute_result",
          "data": {
            "text/plain": [
              "Empty DataFrame\n",
              "Columns: [datetime, season, holiday, workingday, weather, temp, atemp, humidity, windspeed, casual, registered, count]\n",
              "Index: []"
            ],
            "text/html": [
              "\n",
              "\n",
              "  <div id=\"df-00acdb1b-e624-453d-a1f7-c6ca9bbcb975\">\n",
              "    <div class=\"colab-df-container\">\n",
              "      <div>\n",
              "<style scoped>\n",
              "    .dataframe tbody tr th:only-of-type {\n",
              "        vertical-align: middle;\n",
              "    }\n",
              "\n",
              "    .dataframe tbody tr th {\n",
              "        vertical-align: top;\n",
              "    }\n",
              "\n",
              "    .dataframe thead th {\n",
              "        text-align: right;\n",
              "    }\n",
              "</style>\n",
              "<table border=\"1\" class=\"dataframe\">\n",
              "  <thead>\n",
              "    <tr style=\"text-align: right;\">\n",
              "      <th></th>\n",
              "      <th>datetime</th>\n",
              "      <th>season</th>\n",
              "      <th>holiday</th>\n",
              "      <th>workingday</th>\n",
              "      <th>weather</th>\n",
              "      <th>temp</th>\n",
              "      <th>atemp</th>\n",
              "      <th>humidity</th>\n",
              "      <th>windspeed</th>\n",
              "      <th>casual</th>\n",
              "      <th>registered</th>\n",
              "      <th>count</th>\n",
              "    </tr>\n",
              "  </thead>\n",
              "  <tbody>\n",
              "  </tbody>\n",
              "</table>\n",
              "</div>\n",
              "      <button class=\"colab-df-convert\" onclick=\"convertToInteractive('df-00acdb1b-e624-453d-a1f7-c6ca9bbcb975')\"\n",
              "              title=\"Convert this dataframe to an interactive table.\"\n",
              "              style=\"display:none;\">\n",
              "\n",
              "  <svg xmlns=\"http://www.w3.org/2000/svg\" height=\"24px\"viewBox=\"0 0 24 24\"\n",
              "       width=\"24px\">\n",
              "    <path d=\"M0 0h24v24H0V0z\" fill=\"none\"/>\n",
              "    <path d=\"M18.56 5.44l.94 2.06.94-2.06 2.06-.94-2.06-.94-.94-2.06-.94 2.06-2.06.94zm-11 1L8.5 8.5l.94-2.06 2.06-.94-2.06-.94L8.5 2.5l-.94 2.06-2.06.94zm10 10l.94 2.06.94-2.06 2.06-.94-2.06-.94-.94-2.06-.94 2.06-2.06.94z\"/><path d=\"M17.41 7.96l-1.37-1.37c-.4-.4-.92-.59-1.43-.59-.52 0-1.04.2-1.43.59L10.3 9.45l-7.72 7.72c-.78.78-.78 2.05 0 2.83L4 21.41c.39.39.9.59 1.41.59.51 0 1.02-.2 1.41-.59l7.78-7.78 2.81-2.81c.8-.78.8-2.07 0-2.86zM5.41 20L4 18.59l7.72-7.72 1.47 1.35L5.41 20z\"/>\n",
              "  </svg>\n",
              "      </button>\n",
              "\n",
              "\n",
              "\n",
              "    <div id=\"df-2d0886d0-3b85-4b99-b8ee-6e441837d672\">\n",
              "      <button class=\"colab-df-quickchart\" onclick=\"quickchart('df-2d0886d0-3b85-4b99-b8ee-6e441837d672')\"\n",
              "              title=\"Suggest charts.\"\n",
              "              style=\"display:none;\">\n",
              "\n",
              "<svg xmlns=\"http://www.w3.org/2000/svg\" height=\"24px\"viewBox=\"0 0 24 24\"\n",
              "     width=\"24px\">\n",
              "    <g>\n",
              "        <path d=\"M19 3H5c-1.1 0-2 .9-2 2v14c0 1.1.9 2 2 2h14c1.1 0 2-.9 2-2V5c0-1.1-.9-2-2-2zM9 17H7v-7h2v7zm4 0h-2V7h2v10zm4 0h-2v-4h2v4z\"/>\n",
              "    </g>\n",
              "</svg>\n",
              "      </button>\n",
              "    </div>\n",
              "\n",
              "<style>\n",
              "  .colab-df-quickchart {\n",
              "    background-color: #E8F0FE;\n",
              "    border: none;\n",
              "    border-radius: 50%;\n",
              "    cursor: pointer;\n",
              "    display: none;\n",
              "    fill: #1967D2;\n",
              "    height: 32px;\n",
              "    padding: 0 0 0 0;\n",
              "    width: 32px;\n",
              "  }\n",
              "\n",
              "  .colab-df-quickchart:hover {\n",
              "    background-color: #E2EBFA;\n",
              "    box-shadow: 0px 1px 2px rgba(60, 64, 67, 0.3), 0px 1px 3px 1px rgba(60, 64, 67, 0.15);\n",
              "    fill: #174EA6;\n",
              "  }\n",
              "\n",
              "  [theme=dark] .colab-df-quickchart {\n",
              "    background-color: #3B4455;\n",
              "    fill: #D2E3FC;\n",
              "  }\n",
              "\n",
              "  [theme=dark] .colab-df-quickchart:hover {\n",
              "    background-color: #434B5C;\n",
              "    box-shadow: 0px 1px 3px 1px rgba(0, 0, 0, 0.15);\n",
              "    filter: drop-shadow(0px 1px 2px rgba(0, 0, 0, 0.3));\n",
              "    fill: #FFFFFF;\n",
              "  }\n",
              "</style>\n",
              "\n",
              "    <script>\n",
              "      async function quickchart(key) {\n",
              "        const containerElement = document.querySelector('#' + key);\n",
              "        const charts = await google.colab.kernel.invokeFunction(\n",
              "            'suggestCharts', [key], {});\n",
              "      }\n",
              "    </script>\n",
              "\n",
              "      <script>\n",
              "\n",
              "function displayQuickchartButton(domScope) {\n",
              "  let quickchartButtonEl =\n",
              "    domScope.querySelector('#df-2d0886d0-3b85-4b99-b8ee-6e441837d672 button.colab-df-quickchart');\n",
              "  quickchartButtonEl.style.display =\n",
              "    google.colab.kernel.accessAllowed ? 'block' : 'none';\n",
              "}\n",
              "\n",
              "        displayQuickchartButton(document);\n",
              "      </script>\n",
              "      <style>\n",
              "    .colab-df-container {\n",
              "      display:flex;\n",
              "      flex-wrap:wrap;\n",
              "      gap: 12px;\n",
              "    }\n",
              "\n",
              "    .colab-df-convert {\n",
              "      background-color: #E8F0FE;\n",
              "      border: none;\n",
              "      border-radius: 50%;\n",
              "      cursor: pointer;\n",
              "      display: none;\n",
              "      fill: #1967D2;\n",
              "      height: 32px;\n",
              "      padding: 0 0 0 0;\n",
              "      width: 32px;\n",
              "    }\n",
              "\n",
              "    .colab-df-convert:hover {\n",
              "      background-color: #E2EBFA;\n",
              "      box-shadow: 0px 1px 2px rgba(60, 64, 67, 0.3), 0px 1px 3px 1px rgba(60, 64, 67, 0.15);\n",
              "      fill: #174EA6;\n",
              "    }\n",
              "\n",
              "    [theme=dark] .colab-df-convert {\n",
              "      background-color: #3B4455;\n",
              "      fill: #D2E3FC;\n",
              "    }\n",
              "\n",
              "    [theme=dark] .colab-df-convert:hover {\n",
              "      background-color: #434B5C;\n",
              "      box-shadow: 0px 1px 3px 1px rgba(0, 0, 0, 0.15);\n",
              "      filter: drop-shadow(0px 1px 2px rgba(0, 0, 0, 0.3));\n",
              "      fill: #FFFFFF;\n",
              "    }\n",
              "  </style>\n",
              "\n",
              "      <script>\n",
              "        const buttonEl =\n",
              "          document.querySelector('#df-00acdb1b-e624-453d-a1f7-c6ca9bbcb975 button.colab-df-convert');\n",
              "        buttonEl.style.display =\n",
              "          google.colab.kernel.accessAllowed ? 'block' : 'none';\n",
              "\n",
              "        async function convertToInteractive(key) {\n",
              "          const element = document.querySelector('#df-00acdb1b-e624-453d-a1f7-c6ca9bbcb975');\n",
              "          const dataTable =\n",
              "            await google.colab.kernel.invokeFunction('convertToInteractive',\n",
              "                                                     [key], {});\n",
              "          if (!dataTable) return;\n",
              "\n",
              "          const docLinkHtml = 'Like what you see? Visit the ' +\n",
              "            '<a target=\"_blank\" href=https://colab.research.google.com/notebooks/data_table.ipynb>data table notebook</a>'\n",
              "            + ' to learn more about interactive tables.';\n",
              "          element.innerHTML = '';\n",
              "          dataTable['output_type'] = 'display_data';\n",
              "          await google.colab.output.renderOutput(dataTable, element);\n",
              "          const docLink = document.createElement('div');\n",
              "          docLink.innerHTML = docLinkHtml;\n",
              "          element.appendChild(docLink);\n",
              "        }\n",
              "      </script>\n",
              "    </div>\n",
              "  </div>\n"
            ]
          },
          "metadata": {},
          "execution_count": 168
        }
      ]
    },
    {
      "cell_type": "code",
      "source": [
        "#Check null values usinf heatmap\n",
        "sns.heatmap(df.isnull())"
      ],
      "metadata": {
        "id": "MQkRiueevjDt",
        "colab": {
          "base_uri": "https://localhost:8080/",
          "height": 521
        },
        "outputId": "2c39598d-9a68-4a7c-a9ab-33c824bce369"
      },
      "execution_count": null,
      "outputs": [
        {
          "output_type": "execute_result",
          "data": {
            "text/plain": [
              "<Axes: >"
            ]
          },
          "metadata": {},
          "execution_count": 169
        },
        {
          "output_type": "display_data",
          "data": {
            "text/plain": [
              "<Figure size 640x480 with 2 Axes>"
            ],
            "image/png": "[encoded data removed]"
          },
          "metadata": {}
        }
      ]
    },
    {
      "cell_type": "markdown",
      "source": [
        "There are no duplicate vaules and null values."
      ],
      "metadata": {
        "id": "W0fGMqC8pplv"
      }
    },
    {
      "cell_type": "code",
      "source": [
        "#Correlation between attributes\n",
        "df.corr()"
      ],
      "metadata": {
        "id": "dIGxtijPvjHJ",
        "colab": {
          "base_uri": "https://localhost:8080/",
          "height": 429
        },
        "outputId": "64431443-ac61-44ef-9aa7-caee479c7200"
      },
      "execution_count": null,
      "outputs": [
        {
          "output_type": "stream",
          "name": "stderr",
          "text": [
            "<ipython-input-170-012a3110798f>:2: FutureWarning: The default value of numeric_only in DataFrame.corr is deprecated. In a future version, it will default to False. Select only valid columns or specify the value of numeric_only to silence this warning.\n",
            "  df.corr()\n"
          ]
        },
        {
          "output_type": "execute_result",
          "data": {
            "text/plain": [
              "              season   holiday  workingday   weather      temp     atemp  \\\n",
              "season      1.000000  0.029368   -0.008126  0.008879  0.258689  0.264744   \n",
              "holiday     0.029368  1.000000   -0.250491 -0.007074  0.000295 -0.005215   \n",
              "workingday -0.008126 -0.250491    1.000000  0.033772  0.029966  0.024660   \n",
              "weather     0.008879 -0.007074    0.033772  1.000000 -0.055035 -0.055376   \n",
              "temp        0.258689  0.000295    0.029966 -0.055035  1.000000  0.984948   \n",
              "atemp       0.264744 -0.005215    0.024660 -0.055376  0.984948  1.000000   \n",
              "humidity    0.190610  0.001929   -0.010880  0.406244 -0.064949 -0.043536   \n",
              "windspeed  -0.147121  0.008409    0.013373  0.007261 -0.017852 -0.057473   \n",
              "casual      0.096758  0.043799   -0.319111 -0.135918  0.467097  0.462067   \n",
              "registered  0.164011 -0.020956    0.119460 -0.109340  0.318571  0.314635   \n",
              "count       0.163439 -0.005393    0.011594 -0.128655  0.394454  0.389784   \n",
              "\n",
              "            humidity  windspeed    casual  registered     count  \n",
              "season      0.190610  -0.147121  0.096758    0.164011  0.163439  \n",
              "holiday     0.001929   0.008409  0.043799   -0.020956 -0.005393  \n",
              "workingday -0.010880   0.013373 -0.319111    0.119460  0.011594  \n",
              "weather     0.406244   0.007261 -0.135918   -0.109340 -0.128655  \n",
              "temp       -0.064949  -0.017852  0.467097    0.318571  0.394454  \n",
              "atemp      -0.043536  -0.057473  0.462067    0.314635  0.389784  \n",
              "humidity    1.000000  -0.318607 -0.348187   -0.265458 -0.317371  \n",
              "windspeed  -0.318607   1.000000  0.092276    0.091052  0.101369  \n",
              "casual     -0.348187   0.092276  1.000000    0.497250  0.690414  \n",
              "registered -0.265458   0.091052  0.497250    1.000000  0.970948  \n",
              "count      -0.317371   0.101369  0.690414    0.970948  1.000000  "
            ],
            "text/html": [
              "\n",
              "\n",
              "  <div id=\"df-6e4864d1-8f5f-40af-8e59-a70f9b7befc9\">\n",
              "    <div class=\"colab-df-container\">\n",
              "      <div>\n",
              "<style scoped>\n",
              "    .dataframe tbody tr th:only-of-type {\n",
              "        vertical-align: middle;\n",
              "    }\n",
              "\n",
              "    .dataframe tbody tr th {\n",
              "        vertical-align: top;\n",
              "    }\n",
              "\n",
              "    .dataframe thead th {\n",
              "        text-align: right;\n",
              "    }\n",
              "</style>\n",
              "<table border=\"1\" class=\"dataframe\">\n",
              "  <thead>\n",
              "    <tr style=\"text-align: right;\">\n",
              "      <th></th>\n",
              "      <th>season</th>\n",
              "      <th>holiday</th>\n",
              "      <th>workingday</th>\n",
              "      <th>weather</th>\n",
              "      <th>temp</th>\n",
              "      <th>atemp</th>\n",
              "      <th>humidity</th>\n",
              "      <th>windspeed</th>\n",
              "      <th>casual</th>\n",
              "      <th>registered</th>\n",
              "      <th>count</th>\n",
              "    </tr>\n",
              "  </thead>\n",
              "  <tbody>\n",
              "    <tr>\n",
              "      <th>season</th>\n",
              "      <td>1.000000</td>\n",
              "      <td>0.029368</td>\n",
              "      <td>-0.008126</td>\n",
              "      <td>0.008879</td>\n",
              "      <td>0.258689</td>\n",
              "      <td>0.264744</td>\n",
              "      <td>0.190610</td>\n",
              "      <td>-0.147121</td>\n",
              "      <td>0.096758</td>\n",
              "      <td>0.164011</td>\n",
              "      <td>0.163439</td>\n",
              "    </tr>\n",
              "    <tr>\n",
              "      <th>holiday</th>\n",
              "      <td>0.029368</td>\n",
              "      <td>1.000000</td>\n",
              "      <td>-0.250491</td>\n",
              "      <td>-0.007074</td>\n",
              "      <td>0.000295</td>\n",
              "      <td>-0.005215</td>\n",
              "      <td>0.001929</td>\n",
              "      <td>0.008409</td>\n",
              "      <td>0.043799</td>\n",
              "      <td>-0.020956</td>\n",
              "      <td>-0.005393</td>\n",
              "    </tr>\n",
              "    <tr>\n",
              "      <th>workingday</th>\n",
              "      <td>-0.008126</td>\n",
              "      <td>-0.250491</td>\n",
              "      <td>1.000000</td>\n",
              "      <td>0.033772</td>\n",
              "      <td>0.029966</td>\n",
              "      <td>0.024660</td>\n",
              "      <td>-0.010880</td>\n",
              "      <td>0.013373</td>\n",
              "      <td>-0.319111</td>\n",
              "      <td>0.119460</td>\n",
              "      <td>0.011594</td>\n",
              "    </tr>\n",
              "    <tr>\n",
              "      <th>weather</th>\n",
              "      <td>0.008879</td>\n",
              "      <td>-0.007074</td>\n",
              "      <td>0.033772</td>\n",
              "      <td>1.000000</td>\n",
              "      <td>-0.055035</td>\n",
              "      <td>-0.055376</td>\n",
              "      <td>0.406244</td>\n",
              "      <td>0.007261</td>\n",
              "      <td>-0.135918</td>\n",
              "      <td>-0.109340</td>\n",
              "      <td>-0.128655</td>\n",
              "    </tr>\n",
              "    <tr>\n",
              "      <th>temp</th>\n",
              "      <td>0.258689</td>\n",
              "      <td>0.000295</td>\n",
              "      <td>0.029966</td>\n",
              "      <td>-0.055035</td>\n",
              "      <td>1.000000</td>\n",
              "      <td>0.984948</td>\n",
              "      <td>-0.064949</td>\n",
              "      <td>-0.017852</td>\n",
              "      <td>0.467097</td>\n",
              "      <td>0.318571</td>\n",
              "      <td>0.394454</td>\n",
              "    </tr>\n",
              "    <tr>\n",
              "      <th>atemp</th>\n",
              "      <td>0.264744</td>\n",
              "      <td>-0.005215</td>\n",
              "      <td>0.024660</td>\n",
              "      <td>-0.055376</td>\n",
              "      <td>0.984948</td>\n",
              "      <td>1.000000</td>\n",
              "      <td>-0.043536</td>\n",
              "      <td>-0.057473</td>\n",
              "      <td>0.462067</td>\n",
              "      <td>0.314635</td>\n",
              "      <td>0.389784</td>\n",
              "    </tr>\n",
              "    <tr>\n",
              "      <th>humidity</th>\n",
              "      <td>0.190610</td>\n",
              "      <td>0.001929</td>\n",
              "      <td>-0.010880</td>\n",
              "      <td>0.406244</td>\n",
              "      <td>-0.064949</td>\n",
              "      <td>-0.043536</td>\n",
              "      <td>1.000000</td>\n",
              "      <td>-0.318607</td>\n",
              "      <td>-0.348187</td>\n",
              "      <td>-0.265458</td>\n",
              "      <td>-0.317371</td>\n",
              "    </tr>\n",
              "    <tr>\n",
              "      <th>windspeed</th>\n",
              "      <td>-0.147121</td>\n",
              "      <td>0.008409</td>\n",
              "      <td>0.013373</td>\n",
              "      <td>0.007261</td>\n",
              "      <td>-0.017852</td>\n",
              "      <td>-0.057473</td>\n",
              "      <td>-0.318607</td>\n",
              "      <td>1.000000</td>\n",
              "      <td>0.092276</td>\n",
              "      <td>0.091052</td>\n",
              "      <td>0.101369</td>\n",
              "    </tr>\n",
              "    <tr>\n",
              "      <th>casual</th>\n",
              "      <td>0.096758</td>\n",
              "      <td>0.043799</td>\n",
              "      <td>-0.319111</td>\n",
              "      <td>-0.135918</td>\n",
              "      <td>0.467097</td>\n",
              "      <td>0.462067</td>\n",
              "      <td>-0.348187</td>\n",
              "      <td>0.092276</td>\n",
              "      <td>1.000000</td>\n",
              "      <td>0.497250</td>\n",
              "      <td>0.690414</td>\n",
              "    </tr>\n",
              "    <tr>\n",
              "      <th>registered</th>\n",
              "      <td>0.164011</td>\n",
              "      <td>-0.020956</td>\n",
              "      <td>0.119460</td>\n",
              "      <td>-0.109340</td>\n",
              "      <td>0.318571</td>\n",
              "      <td>0.314635</td>\n",
              "      <td>-0.265458</td>\n",
              "      <td>0.091052</td>\n",
              "      <td>0.497250</td>\n",
              "      <td>1.000000</td>\n",
              "      <td>0.970948</td>\n",
              "    </tr>\n",
              "    <tr>\n",
              "      <th>count</th>\n",
              "      <td>0.163439</td>\n",
              "      <td>-0.005393</td>\n",
              "      <td>0.011594</td>\n",
              "      <td>-0.128655</td>\n",
              "      <td>0.394454</td>\n",
              "      <td>0.389784</td>\n",
              "      <td>-0.317371</td>\n",
              "      <td>0.101369</td>\n",
              "      <td>0.690414</td>\n",
              "      <td>0.970948</td>\n",
              "      <td>1.000000</td>\n",
              "    </tr>\n",
              "  </tbody>\n",
              "</table>\n",
              "</div>\n",
              "      <button class=\"colab-df-convert\" onclick=\"convertToInteractive('df-6e4864d1-8f5f-40af-8e59-a70f9b7befc9')\"\n",
              "              title=\"Convert this dataframe to an interactive table.\"\n",
              "              style=\"display:none;\">\n",
              "\n",
              "  <svg xmlns=\"http://www.w3.org/2000/svg\" height=\"24px\"viewBox=\"0 0 24 24\"\n",
              "       width=\"24px\">\n",
              "    <path d=\"M0 0h24v24H0V0z\" fill=\"none\"/>\n",
              "    <path d=\"M18.56 5.44l.94 2.06.94-2.06 2.06-.94-2.06-.94-.94-2.06-.94 2.06-2.06.94zm-11 1L8.5 8.5l.94-2.06 2.06-.94-2.06-.94L8.5 2.5l-.94 2.06-2.06.94zm10 10l.94 2.06.94-2.06 2.06-.94-2.06-.94-.94-2.06-.94 2.06-2.06.94z\"/><path d=\"M17.41 7.96l-1.37-1.37c-.4-.4-.92-.59-1.43-.59-.52 0-1.04.2-1.43.59L10.3 9.45l-7.72 7.72c-.78.78-.78 2.05 0 2.83L4 21.41c.39.39.9.59 1.41.59.51 0 1.02-.2 1.41-.59l7.78-7.78 2.81-2.81c.8-.78.8-2.07 0-2.86zM5.41 20L4 18.59l7.72-7.72 1.47 1.35L5.41 20z\"/>\n",
              "  </svg>\n",
              "      </button>\n",
              "\n",
              "\n",
              "\n",
              "    <div id=\"df-e958ab3e-bc7c-48b8-9d76-f5df39fab9c1\">\n",
              "      <button class=\"colab-df-quickchart\" onclick=\"quickchart('df-e958ab3e-bc7c-48b8-9d76-f5df39fab9c1')\"\n",
              "              title=\"Suggest charts.\"\n",
              "              style=\"display:none;\">\n",
              "\n",
              "<svg xmlns=\"http://www.w3.org/2000/svg\" height=\"24px\"viewBox=\"0 0 24 24\"\n",
              "     width=\"24px\">\n",
              "    <g>\n",
              "        <path d=\"M19 3H5c-1.1 0-2 .9-2 2v14c0 1.1.9 2 2 2h14c1.1 0 2-.9 2-2V5c0-1.1-.9-2-2-2zM9 17H7v-7h2v7zm4 0h-2V7h2v10zm4 0h-2v-4h2v4z\"/>\n",
              "    </g>\n",
              "</svg>\n",
              "      </button>\n",
              "    </div>\n",
              "\n",
              "<style>\n",
              "  .colab-df-quickchart {\n",
              "    background-color: #E8F0FE;\n",
              "    border: none;\n",
              "    border-radius: 50%;\n",
              "    cursor: pointer;\n",
              "    display: none;\n",
              "    fill: #1967D2;\n",
              "    height: 32px;\n",
              "    padding: 0 0 0 0;\n",
              "    width: 32px;\n",
              "  }\n",
              "\n",
              "  .colab-df-quickchart:hover {\n",
              "    background-color: #E2EBFA;\n",
              "    box-shadow: 0px 1px 2px rgba(60, 64, 67, 0.3), 0px 1px 3px 1px rgba(60, 64, 67, 0.15);\n",
              "    fill: #174EA6;\n",
              "  }\n",
              "\n",
              "  [theme=dark] .colab-df-quickchart {\n",
              "    background-color: #3B4455;\n",
              "    fill: #D2E3FC;\n",
              "  }\n",
              "\n",
              "  [theme=dark] .colab-df-quickchart:hover {\n",
              "    background-color: #434B5C;\n",
              "    box-shadow: 0px 1px 3px 1px rgba(0, 0, 0, 0.15);\n",
              "    filter: drop-shadow(0px 1px 2px rgba(0, 0, 0, 0.3));\n",
              "    fill: #FFFFFF;\n",
              "  }\n",
              "</style>\n",
              "\n",
              "    <script>\n",
              "      async function quickchart(key) {\n",
              "        const containerElement = document.querySelector('#' + key);\n",
              "        const charts = await google.colab.kernel.invokeFunction(\n",
              "            'suggestCharts', [key], {});\n",
              "      }\n",
              "    </script>\n",
              "\n",
              "      <script>\n",
              "\n",
              "function displayQuickchartButton(domScope) {\n",
              "  let quickchartButtonEl =\n",
              "    domScope.querySelector('#df-e958ab3e-bc7c-48b8-9d76-f5df39fab9c1 button.colab-df-quickchart');\n",
              "  quickchartButtonEl.style.display =\n",
              "    google.colab.kernel.accessAllowed ? 'block' : 'none';\n",
              "}\n",
              "\n",
              "        displayQuickchartButton(document);\n",
              "      </script>\n",
              "      <style>\n",
              "    .colab-df-container {\n",
              "      display:flex;\n",
              "      flex-wrap:wrap;\n",
              "      gap: 12px;\n",
              "    }\n",
              "\n",
              "    .colab-df-convert {\n",
              "      background-color: #E8F0FE;\n",
              "      border: none;\n",
              "      border-radius: 50%;\n",
              "      cursor: pointer;\n",
              "      display: none;\n",
              "      fill: #1967D2;\n",
              "      height: 32px;\n",
              "      padding: 0 0 0 0;\n",
              "      width: 32px;\n",
              "    }\n",
              "\n",
              "    .colab-df-convert:hover {\n",
              "      background-color: #E2EBFA;\n",
              "      box-shadow: 0px 1px 2px rgba(60, 64, 67, 0.3), 0px 1px 3px 1px rgba(60, 64, 67, 0.15);\n",
              "      fill: #174EA6;\n",
              "    }\n",
              "\n",
              "    [theme=dark] .colab-df-convert {\n",
              "      background-color: #3B4455;\n",
              "      fill: #D2E3FC;\n",
              "    }\n",
              "\n",
              "    [theme=dark] .colab-df-convert:hover {\n",
              "      background-color: #434B5C;\n",
              "      box-shadow: 0px 1px 3px 1px rgba(0, 0, 0, 0.15);\n",
              "      filter: drop-shadow(0px 1px 2px rgba(0, 0, 0, 0.3));\n",
              "      fill: #FFFFFF;\n",
              "    }\n",
              "  </style>\n",
              "\n",
              "      <script>\n",
              "        const buttonEl =\n",
              "          document.querySelector('#df-6e4864d1-8f5f-40af-8e59-a70f9b7befc9 button.colab-df-convert');\n",
              "        buttonEl.style.display =\n",
              "          google.colab.kernel.accessAllowed ? 'block' : 'none';\n",
              "\n",
              "        async function convertToInteractive(key) {\n",
              "          const element = document.querySelector('#df-6e4864d1-8f5f-40af-8e59-a70f9b7befc9');\n",
              "          const dataTable =\n",
              "            await google.colab.kernel.invokeFunction('convertToInteractive',\n",
              "                                                     [key], {});\n",
              "          if (!dataTable) return;\n",
              "\n",
              "          const docLinkHtml = 'Like what you see? Visit the ' +\n",
              "            '<a target=\"_blank\" href=https://colab.research.google.com/notebooks/data_table.ipynb>data table notebook</a>'\n",
              "            + ' to learn more about interactive tables.';\n",
              "          element.innerHTML = '';\n",
              "          dataTable['output_type'] = 'display_data';\n",
              "          await google.colab.output.renderOutput(dataTable, element);\n",
              "          const docLink = document.createElement('div');\n",
              "          docLink.innerHTML = docLinkHtml;\n",
              "          element.appendChild(docLink);\n",
              "        }\n",
              "      </script>\n",
              "    </div>\n",
              "  </div>\n"
            ]
          },
          "metadata": {},
          "execution_count": 170
        }
      ]
    },
    {
      "cell_type": "code",
      "source": [
        "sns.heatmap(df.corr())"
      ],
      "metadata": {
        "id": "o5pNtgi36NWY",
        "colab": {
          "base_uri": "https://localhost:8080/",
          "height": 554
        },
        "outputId": "39de39ac-c284-4304-96ca-4d76d540ffac"
      },
      "execution_count": null,
      "outputs": [
        {
          "output_type": "stream",
          "name": "stderr",
          "text": [
            "<ipython-input-171-aa4f4450a243>:1: FutureWarning: The default value of numeric_only in DataFrame.corr is deprecated. In a future version, it will default to False. Select only valid columns or specify the value of numeric_only to silence this warning.\n",
            "  sns.heatmap(df.corr())\n"
          ]
        },
        {
          "output_type": "execute_result",
          "data": {
            "text/plain": [
              "<Axes: >"
            ]
          },
          "metadata": {},
          "execution_count": 171
        },
        {
          "output_type": "display_data",
          "data": {
            "text/plain": [
              "<Figure size 640x480 with 2 Axes>"
            ],
            "image/png": "[encoded data removed]"
          },
          "metadata": {}
        }
      ]
    },
    {
      "cell_type": "markdown",
      "source": [
        "Attributes with correlation coefficient 1 has strong positive correlation and as the coefficient moves towards zero, it becomes weak. Likewise, correlation coefficient -1 has strong negative correlation and as the coefficient moves towards zero, it becomes weak.\n",
        "Here we can observe that working day and holiday has strong negative correlation. casual users and counts are moderately correlated. Humidity and temperature has moderately negative correlation."
      ],
      "metadata": {
        "id": "LH29jUidqFTq"
      }
    },
    {
      "cell_type": "code",
      "source": [
        "#Change datetime datatype and extract values\n",
        "df['datetime']=pd.to_datetime(df['datetime'])\n",
        "df['hour']=df['datetime'].dt.hour\n",
        "df['month']=df['datetime'].dt.month\n",
        "df['year']=df['datetime'].dt.year"
      ],
      "metadata": {
        "id": "sqbhhyvb6NY3"
      },
      "execution_count": null,
      "outputs": []
    },
    {
      "cell_type": "code",
      "source": [
        "#Identify outliers\n",
        "sns.boxplot(df[\"count\"])"
      ],
      "metadata": {
        "id": "Wc22ZDyb6NcV",
        "colab": {
          "base_uri": "https://localhost:8080/",
          "height": 447
        },
        "outputId": "0857a3d3-6d6e-415d-9365-7d5f9a7a0383"
      },
      "execution_count": null,
      "outputs": [
        {
          "output_type": "execute_result",
          "data": {
            "text/plain": [
              "<Axes: >"
            ]
          },
          "metadata": {},
          "execution_count": 173
        },
        {
          "output_type": "display_data",
          "data": {
            "text/plain": [
              "<Figure size 640x480 with 1 Axes>"
            ],
            "image/png": "[encoded data removed]"
          },
          "metadata": {}
        }
      ]
    },
    {
      "cell_type": "code",
      "source": [
        "# Outlier treatment: Since the number of outliers are more, we need to find the upper and lower band to eliminate the outliers\n",
        "'''\n",
        "In the above box plot we can see alot of outliers. It will be appropriate to remove these outliers by calculating upper and lower band with interquartile range\n",
        "'''\n",
        "q1=np.quantile(df['count'],0.25)\n",
        "q3=np.quantile(df['count'],0.75)\n",
        "IQR=q3-q1\n",
        "lower_band=q1-(1.5*IQR)\n",
        "upper_band=q3+(1.5*IQR)\n",
        "print('Lower band=',lower_band,'Upper band=',upper_band)"
      ],
      "metadata": {
        "id": "4jST4Fy36Nfc",
        "colab": {
          "base_uri": "https://localhost:8080/"
        },
        "outputId": "a60ce683-004b-4096-c44e-3ad219daa325"
      },
      "execution_count": null,
      "outputs": [
        {
          "output_type": "stream",
          "name": "stdout",
          "text": [
            "Lower band= -321.0 Upper band= 647.0\n"
          ]
        }
      ]
    },
    {
      "cell_type": "code",
      "source": [
        "df=df[(df['count']>=lower_band) & (df['count']<=upper_band)]"
      ],
      "metadata": {
        "id": "sDSinmAg6NiQ"
      },
      "execution_count": null,
      "outputs": []
    },
    {
      "cell_type": "code",
      "source": [
        "sns.boxplot(df[\"count\"])"
      ],
      "metadata": {
        "id": "0kZpqQaq_WcQ",
        "colab": {
          "base_uri": "https://localhost:8080/",
          "height": 447
        },
        "outputId": "0a8c849f-00cb-41c2-a56e-16a581855644"
      },
      "execution_count": null,
      "outputs": [
        {
          "output_type": "execute_result",
          "data": {
            "text/plain": [
              "<Axes: >"
            ]
          },
          "metadata": {},
          "execution_count": 176
        },
        {
          "output_type": "display_data",
          "data": {
            "text/plain": [
              "<Figure size 640x480 with 1 Axes>"
            ],
            "image/png": "[encoded data removed]"
          },
          "metadata": {}
        }
      ]
    },
    {
      "cell_type": "code",
      "source": [
        "df.shape"
      ],
      "metadata": {
        "id": "M1XLDGbM6Nk9",
        "colab": {
          "base_uri": "https://localhost:8080/"
        },
        "outputId": "7607d5c1-a4bd-43dd-8f28-7fb0049e1265"
      },
      "execution_count": null,
      "outputs": [
        {
          "output_type": "execute_result",
          "data": {
            "text/plain": [
              "(10586, 15)"
            ]
          },
          "metadata": {},
          "execution_count": 177
        }
      ]
    },
    {
      "cell_type": "code",
      "source": [
        "#Count of rental bike according to hours,season,working day and weather\n",
        "plt.figure(figsize=(10,5))\n",
        "plt.subplot(2,2,1)\n",
        "sns.barplot(x=df['hour'],y=df['count'])\n",
        "\n",
        "plt.subplot(2,2,2)\n",
        "sns.barplot(x=df['season'],y=df['count'])\n",
        "\n",
        "plt.subplot(2,2,3)\n",
        "sns.barplot(x=df['workingday'],y=df['count'])\n",
        "\n",
        "plt.subplot(2,2,4)\n",
        "sns.barplot(x=df['weather'],y=df['count'])"
      ],
      "metadata": {
        "id": "mfREreGG6NoE",
        "colab": {
          "base_uri": "https://localhost:8080/",
          "height": 482
        },
        "outputId": "50a14d3f-ec80-4b58-ca23-ecb52696f2c7"
      },
      "execution_count": null,
      "outputs": [
        {
          "output_type": "execute_result",
          "data": {
            "text/plain": [
              "<Axes: xlabel='weather', ylabel='count'>"
            ]
          },
          "metadata": {},
          "execution_count": 201
        },
        {
          "output_type": "display_data",
          "data": {
            "text/plain": [
              "<Figure size 1000x500 with 4 Axes>"
            ],
            "image/png": "[encoded data removed]"
          },
          "metadata": {}
        }
      ]
    },
    {
      "cell_type": "code",
      "source": [
        "#Histplot for continous attributes\n",
        "plt.figure(figsize=(15,5))\n",
        "plt.subplot(1,3,1)\n",
        "sns.histplot(x=df['temp'])\n",
        "\n",
        "plt.subplot(1,3,2)\n",
        "sns.histplot(x=df['humidity'])\n",
        "\n",
        "plt.subplot(1,3,3)\n",
        "sns.histplot(x=df['windspeed'])"
      ],
      "metadata": {
        "id": "QR_a2VrJB-k3",
        "colab": {
          "base_uri": "https://localhost:8080/",
          "height": 482
        },
        "outputId": "b0e10f4a-1234-4822-9826-a3a5808bcb29"
      },
      "execution_count": null,
      "outputs": [
        {
          "output_type": "execute_result",
          "data": {
            "text/plain": [
              "<Axes: xlabel='windspeed', ylabel='Count'>"
            ]
          },
          "metadata": {},
          "execution_count": 179
        },
        {
          "output_type": "display_data",
          "data": {
            "text/plain": [
              "<Figure size 1500x500 with 3 Axes>"
            ],
            "image/png": "[encoded data removed]"
          },
          "metadata": {}
        }
      ]
    },
    {
      "cell_type": "markdown",
      "source": [
        "From the above graphs, we can conclude that bike renting is at peak in the evening around 5 to 6 pm. People rent more bikes in fall and then summerand winter. Thereis slight difference in the bike renting on working and non-working days. Lastly, people prefer to rent bike more on clear days or when its cloudy or partly cloudy.\n",
        "\n",
        "As per the histplot, people tend to rent bikes when wind speed is low, and humidity is moderate."
      ],
      "metadata": {
        "id": "ICqyqZHrFzs1"
      }
    },
    {
      "cell_type": "markdown",
      "source": [
        "### Hypothesis Testing"
      ],
      "metadata": {
        "id": "6aPKHHG9sz8t"
      }
    },
    {
      "cell_type": "markdown",
      "source": [
        "1. Working day effect on number of electric cycle rented\n",
        "\n",
        "\n",
        "\n",
        "*Here we set the null and alternate hypothesis as below:*\n",
        "\n",
        "*H0 = Working day has no effect on electric bike rentals*\n",
        "\n",
        "*H1 = Working day has effect on electric bike rentals*\n",
        "\n",
        "*Let us assume the standard significance level for the hypothesis i.e., 5%*"
      ],
      "metadata": {
        "id": "d7cnSMnYdiIA"
      }
    },
    {
      "cell_type": "code",
      "source": [
        "# Check if the data is Gaussian Distribution or not\n",
        "'''\n",
        "Here we will use Shapiro test to check the gaussian distribution assuming that the data is independent and identically distributed\n",
        "\n",
        "H0 = Data has Gaussian Distribution\n",
        "H1 = Data does not have Gaussian Distribution\n",
        "alpha = 0.05\n",
        "'''\n",
        "working_day= df[df['workingday']==1]\n",
        "alpha=0.05\n",
        "\n",
        "statistics_1,p_value_1= shapiro(working_day['count'])\n",
        "\n",
        "print('statistics=',statistics_1)\n",
        "print('p_value=',p_value_1)\n",
        "\n",
        "if p_value_1>alpha:\n",
        "  print('Working Day Data has Gaussian Distribution')\n",
        "else:\n",
        "  print('Working Day Data does not have Gaussian Distribution')"
      ],
      "metadata": {
        "id": "GGq0c12ZdhRc",
        "colab": {
          "base_uri": "https://localhost:8080/"
        },
        "outputId": "2c829250-3ace-4d65-9c79-a6d21fa2082c"
      },
      "execution_count": null,
      "outputs": [
        {
          "output_type": "stream",
          "name": "stdout",
          "text": [
            "statistics= 0.9066900610923767\n",
            "p_value= 0.0\n",
            "Working Day Data does not have Gaussian Distribution\n"
          ]
        },
        {
          "output_type": "stream",
          "name": "stderr",
          "text": [
            "/usr/local/lib/python3.10/dist-packages/scipy/stats/_morestats.py:1816: UserWarning: p-value may not be accurate for N > 5000.\n",
            "  warnings.warn(\"p-value may not be accurate for N > 5000.\")\n"
          ]
        }
      ]
    },
    {
      "cell_type": "code",
      "source": [
        "non_working_day= df[df['workingday']==0]\n",
        "alpha=0.05\n",
        "\n",
        "statistic_2,p_value_2= shapiro(non_working_day['count'])\n",
        "\n",
        "print('statistics=',statistics_1)\n",
        "print('p_value=',p_value_2)\n",
        "\n",
        "\n",
        "if p_value_2>alpha:\n",
        "  print('Non-Working Day Data has Gaussian Distribution')\n",
        "else:\n",
        "  print('Non-Working Day Data does not have Gaussian Distribution')"
      ],
      "metadata": {
        "id": "Zb8UC9J8_r1L",
        "colab": {
          "base_uri": "https://localhost:8080/"
        },
        "outputId": "0c0fd83d-1999-4a2b-86f7-48fd9c264f13"
      },
      "execution_count": null,
      "outputs": [
        {
          "output_type": "stream",
          "name": "stdout",
          "text": [
            "statistics= 0.9066900610923767\n",
            "p_value= 2.382207389352189e-44\n",
            "Non-Working Day Data does not have Gaussian Distribution\n"
          ]
        }
      ]
    },
    {
      "cell_type": "markdown",
      "source": [
        "Working day and non-working day data are not a Gaussian distribution as the p_values is greater than alpha value"
      ],
      "metadata": {
        "id": "VZIoKJGx0jfA"
      }
    },
    {
      "cell_type": "code",
      "source": [
        "# Visual distribution of data\n",
        "plt.figure(figsize=(15,5))\n",
        "plt.subplot(1,2,1)\n",
        "sns.histplot(working_day,x='count')\n",
        "\n",
        "plt.subplot(1,2,2)\n",
        "sns.histplot(non_working_day,x='count')"
      ],
      "metadata": {
        "id": "AU4-YsWN6Nri",
        "colab": {
          "base_uri": "https://localhost:8080/",
          "height": 482
        },
        "outputId": "53cef055-781d-4e7c-efeb-3a5e6eead194"
      },
      "execution_count": null,
      "outputs": [
        {
          "output_type": "execute_result",
          "data": {
            "text/plain": [
              "<Axes: xlabel='count', ylabel='Count'>"
            ]
          },
          "metadata": {},
          "execution_count": 182
        },
        {
          "output_type": "display_data",
          "data": {
            "text/plain": [
              "<Figure size 1500x500 with 2 Axes>"
            ],
            "image/png": "[encoded data removed]"
          },
          "metadata": {}
        }
      ]
    },
    {
      "cell_type": "code",
      "source": [
        "# Check variance of the data\n",
        "'''\n",
        "We will use Levene Test to check the variance of the two dataset\n",
        "\n",
        "H0 = Variances are equal\n",
        "H1 = Variances are not equal\n",
        "'''\n",
        "alpha=0.05\n",
        "\n",
        "statistics_var,p_value_var= levene(working_day['count'],non_working_day['count'])\n",
        "\n",
        "print('statistics=',statistics_var)\n",
        "print('p_value=',p_value_var)\n",
        "\n",
        "if p_value_var>alpha:\n",
        "  print('We fail to reject the null hypothesis. Hence, variances are equal')\n",
        "else:\n",
        "  print('Reject null hypothesis. Variances are not equal')"
      ],
      "metadata": {
        "id": "napS9q6ct71w",
        "colab": {
          "base_uri": "https://localhost:8080/"
        },
        "outputId": "5b10f98d-78d6-44ef-843a-72e12c08009a"
      },
      "execution_count": null,
      "outputs": [
        {
          "output_type": "stream",
          "name": "stdout",
          "text": [
            "statistics= 26.147070184499576\n",
            "p_value= 3.219098783658039e-07\n",
            "Reject null hypothesis. Variances are not equal\n"
          ]
        }
      ]
    },
    {
      "cell_type": "markdown",
      "source": [
        "Although the working day and non-working day data are not normally distributed and the variances are not same, still we will do the 2 sample ttest as the casestudy wants us to do that. However, we will also perform the other test and see if it gives the same result"
      ],
      "metadata": {
        "id": "cU0fFFP02Zvx"
      }
    },
    {
      "cell_type": "code",
      "source": [
        "'''\n",
        "As the case study requiresus to do 2 sample ttest to see if 'Working day effect on number of electric cycle rented', below are the null and alternate hypothesis.\n",
        "\n",
        "H0 = Working day has no effect on electric bike rentals\n",
        "H1 = Working day has effect on electric bike rentals\n",
        "alpha = 0.05\n",
        "'''\n",
        "alpha=0.05\n",
        "\n",
        "t_stat,p_value_ofttest= ttest_ind(working_day['count'],non_working_day['count'])\n",
        "\n",
        "print('statistics=',t_stat)\n",
        "print('p_value=',p_value_ofttest)\n",
        "\n",
        "if p_value_ofttest>alpha:\n",
        "  print('We fail to reject the null hypothesis. Hence, Working day has no effect on electric bike rentals')\n",
        "else:\n",
        "  print('We reject the null hypothesis. Working day has effect on electric bike rentals')"
      ],
      "metadata": {
        "id": "swkUHvgG62ld",
        "colab": {
          "base_uri": "https://localhost:8080/"
        },
        "outputId": "3f850ba3-0f6d-40d7-cde6-c10d63815c98"
      },
      "execution_count": null,
      "outputs": [
        {
          "output_type": "stream",
          "name": "stdout",
          "text": [
            "statistics= -2.5748856400481515\n",
            "p_value= 0.010040780184497066\n",
            "We reject the null hypothesis. Working day has effect on electric bike rentals\n"
          ]
        }
      ]
    },
    {
      "cell_type": "code",
      "source": [
        "'''\n",
        "We know that if the requirements of 2 sample ttest fails, we can do Mann Whitney U Test to check the hypothesis.\n",
        "\n",
        "H0 = Working day has no effect on electric bike rentals\n",
        "H1 = Working day has effect on electric bike rentals\n",
        "alpha = 0.05\n",
        "\n",
        "'''\n",
        "from scipy.stats import mannwhitneyu\n",
        "\n",
        "alpha=0.05\n",
        "\n",
        "u_stat,p_value_mann= mannwhitneyu(working_day['count'],non_working_day['count'])\n",
        "\n",
        "print('statistics=',u_stat)\n",
        "print('p_value=',p_value_mann)\n",
        "\n",
        "if p_value_mann>alpha:\n",
        "  print('We fail to reject the null hypothesis. Hence, Working day has no effect on electric bike rentals')\n",
        "else:\n",
        "  print('We reject the null hypothesis. Working day has effect on electric bike rentals')"
      ],
      "metadata": {
        "colab": {
          "base_uri": "https://localhost:8080/"
        },
        "id": "vc0AOl1136cG",
        "outputId": "8a30771d-f554-4261-eac6-71cc25fad762"
      },
      "execution_count": null,
      "outputs": [
        {
          "output_type": "stream",
          "name": "stdout",
          "text": [
            "statistics= 11998982.0\n",
            "p_value= 0.07244967583756133\n",
            "We fail to reject the null hypothesis. Hence, Working day has no effect on electric bike rentals\n"
          ]
        }
      ]
    },
    {
      "cell_type": "markdown",
      "source": [
        "In the Mann Whitney U Test, the p_value is greater than the alpha value 0.05. Hence, we can conclude that the working days and non-working days have no impact on the electric bike rental."
      ],
      "metadata": {
        "id": "KAznciFq47C7"
      }
    },
    {
      "cell_type": "markdown",
      "source": [
        "2. No. of cycles rented in different seasons are same or different\n",
        "\n",
        "\n",
        "\n",
        "*Here we set the null and alternate hypothesis as below:*\n",
        "\n",
        "*H0 = Number of cycles rented in different seasons are same*\n",
        "\n",
        "*H1 = Number of cycles rented in different seasons are different*\n",
        "\n",
        "*Let us assume the standard significance level for the hypothesis i.e., 5%*"
      ],
      "metadata": {
        "id": "sLCEymyPDSX4"
      }
    },
    {
      "cell_type": "code",
      "source": [
        "# Check if the data is Gaussian Distribution or not\n",
        "'''\n",
        "Here we will use Shapiro test to check the gaussian distribution assuming that the data is independent and identically distributed\n",
        "\n",
        "H0 = Data has Gaussian Distribution\n",
        "H1 = Data does not have Gaussian Distribution\n",
        "alpha = 0.05\n",
        "'''\n",
        "season_1= df[df['season']==1]\n",
        "season_2= df[df['season']==2]\n",
        "season_3= df[df['season']==3]\n",
        "season_4= df[df['season']==4]\n",
        "\n",
        "alpha=0.05\n",
        "\n",
        "statistics_s1,p_value_season_1= shapiro(season_1['count'])\n",
        "\n",
        "print('statistics=',statistics_s1)\n",
        "print('p_value=',p_value_season_1)\n",
        "\n",
        "if p_value_season_1>alpha:\n",
        "  print('Season 1 Data has Gaussian Distribution')\n",
        "else:\n",
        "  print('Season 1 Data does not have Gaussian Distribution')\n",
        "\n",
        "\n",
        "statistics_s2,p_value_season_2= shapiro(season_2['count'])\n",
        "\n",
        "print('statistics=',statistics_s2)\n",
        "print('p_value=',p_value_season_2)\n",
        "\n",
        "if p_value_season_2>alpha:\n",
        "  print('Season 2 Data has Gaussian Distribution')\n",
        "else:\n",
        "  print('Season 2 Data does not have Gaussian Distribution')\n",
        "\n",
        "\n",
        "statistics_s3,p_value_season_3= shapiro(season_3['count'])\n",
        "\n",
        "print('statistics=',statistics_s3)\n",
        "print('p_value=',p_value_season_3)\n",
        "\n",
        "if p_value_season_3>alpha:\n",
        "  print('Season 3 Data has Gaussian Distribution')\n",
        "else:\n",
        "  print('Season 3 Data does not have Gaussian Distribution')\n",
        "\n",
        "\n",
        "statistics_s4,p_value_season_4= shapiro(season_4['count'])\n",
        "\n",
        "print('statistics=',statistics_s4)\n",
        "print('p_value=',p_value_season_4)\n",
        "\n",
        "if p_value_season_4>alpha:\n",
        "  print('Season 4 Data has Gaussian Distribution')\n",
        "else:\n",
        "  print('Season 4 Data does not have Gaussian Distribution')"
      ],
      "metadata": {
        "id": "p0ilHsCnEBKc",
        "colab": {
          "base_uri": "https://localhost:8080/"
        },
        "outputId": "0ead91e6-3300-471b-cf1d-0f26faa74e8b"
      },
      "execution_count": null,
      "outputs": [
        {
          "output_type": "stream",
          "name": "stdout",
          "text": [
            "statistics= 0.8313114047050476\n",
            "p_value= 0.0\n",
            "Season 1 Data does not have Gaussian Distribution\n",
            "statistics= 0.9152905941009521\n",
            "p_value= 4.532368362589953e-36\n",
            "Season 2 Data does not have Gaussian Distribution\n",
            "statistics= 0.9371488690376282\n",
            "p_value= 6.364172259631547e-32\n",
            "Season 3 Data does not have Gaussian Distribution\n",
            "statistics= 0.9188982844352722\n",
            "p_value= 1.2269542276014551e-35\n",
            "Season 4 Data does not have Gaussian Distribution\n"
          ]
        }
      ]
    },
    {
      "cell_type": "code",
      "source": [
        "# Visual distribution of data\n",
        "plt.figure(figsize=(10,5))\n",
        "plt.subplot(2,2,1)\n",
        "sns.histplot(season_1,x='count')\n",
        "\n",
        "plt.subplot(2,2,2)\n",
        "sns.histplot(season_2,x='count')\n",
        "\n",
        "plt.subplot(2,2,3)\n",
        "sns.histplot(season_3,x='count')\n",
        "\n",
        "plt.subplot(2,2,4)\n",
        "sns.histplot(season_4,x='count')"
      ],
      "metadata": {
        "id": "Hw80MqInEBKz",
        "colab": {
          "base_uri": "https://localhost:8080/",
          "height": 482
        },
        "outputId": "118d5c65-a017-4b27-9ac7-3313d26b6286"
      },
      "execution_count": null,
      "outputs": [
        {
          "output_type": "execute_result",
          "data": {
            "text/plain": [
              "<Axes: xlabel='count', ylabel='Count'>"
            ]
          },
          "metadata": {},
          "execution_count": 187
        },
        {
          "output_type": "display_data",
          "data": {
            "text/plain": [
              "<Figure size 1000x500 with 4 Axes>"
            ],
            "image/png": "[encoded data removed]"
          },
          "metadata": {}
        }
      ]
    },
    {
      "cell_type": "code",
      "source": [
        "# Check variance of the data\n",
        "'''\n",
        "Since the data is normally distributed, we will use Levene Test to check the variance.\n",
        "\n",
        "H0 = Variances are equal\n",
        "H1 = Variances are not equal\n",
        "'''\n",
        "alpha=0.05\n",
        "\n",
        "statistics_var2,p_value_var2= levene(season_1['count'],season_2['count'],season_3['count'],season_4['count'])\n",
        "\n",
        "print('statistics=',statistics_var2)\n",
        "print('p_value=',p_value_var2)\n",
        "\n",
        "if p_value_var2>alpha:\n",
        "  print('We fail to reject the null hypothesis. Hence, variances are equal')\n",
        "else:\n",
        "  print('Reject null hypothesis. Variances are not equal')"
      ],
      "metadata": {
        "id": "AzhUydi-EBK1",
        "colab": {
          "base_uri": "https://localhost:8080/"
        },
        "outputId": "7d2bc85c-00c2-4704-af72-2685d618be4b"
      },
      "execution_count": null,
      "outputs": [
        {
          "output_type": "stream",
          "name": "stdout",
          "text": [
            "statistics= 177.84047176737855\n",
            "p_value= 1.6939424019616345e-112\n",
            "Reject null hypothesis. Variances are not equal\n"
          ]
        }
      ]
    },
    {
      "cell_type": "markdown",
      "source": [
        "According to the tests, the data is not a Gaussian distribution and variances are also not equal. It is right skewed.\n",
        "Since the casestudy wants us to keep doing the test, we will perform ANOVA test to check the hypothesis. However, we will also perform the Krushkal-Wallis test and see if it gives the same result"
      ],
      "metadata": {
        "id": "zgVNp2lq6wFM"
      }
    },
    {
      "cell_type": "code",
      "source": [
        "'''\n",
        "We will use ANOVA test to see if 'Number of cycles rented in different seasons are same or different'. Below are the null and alternate hypothesis for the test\n",
        "\n",
        "H0 = Number of cycles rented in different seasons are same\n",
        "H1 = Number of cycles rented in different seasons are different\n",
        "alpha = 0.05\n",
        "'''\n",
        "alpha=0.05\n",
        "\n",
        "f_stat,p_value_f= f_oneway(season_1['count'],season_2['count'],season_3['count'],season_4['count'])\n",
        "\n",
        "print('statistics=',f_stat)\n",
        "print('p_value=',p_value_f)\n",
        "\n",
        "if p_value_f>alpha:\n",
        "  print('We fail to reject the null hypothesis. Hence, Number of cycles rented in different seasons are same')\n",
        "else:\n",
        "  print('We reject the null hypothesis. Number of cycles rented in different seasons are different')"
      ],
      "metadata": {
        "id": "j3l3GTYnEBK1",
        "colab": {
          "base_uri": "https://localhost:8080/"
        },
        "outputId": "9e0a1dc0-6d6c-4aa1-e581-3266c1aa4cd9"
      },
      "execution_count": null,
      "outputs": [
        {
          "output_type": "stream",
          "name": "stdout",
          "text": [
            "statistics= 217.63287180093394\n",
            "p_value= 5.292326890121564e-137\n",
            "We reject the null hypothesis. Number of cycles rented in different seasons are different\n"
          ]
        }
      ]
    },
    {
      "cell_type": "code",
      "source": [
        "'''\n",
        "As we know that if the requirements of ANOVA test fails, we can do Krushkal Wallis Test to check the hypothesis.\n",
        "\n",
        "H0 = Working day has no effect on electric bike rentals\n",
        "H1 = Working day has effect on electric bike rentals\n",
        "alpha = 0.05\n",
        "\n",
        "'''\n",
        "from scipy.stats import kruskal\n",
        "\n",
        "alpha=0.05\n",
        "\n",
        "h_stat,p_value_kru= kruskal(season_1['count'],season_2['count'],season_3['count'],season_4['count'])\n",
        "\n",
        "print('statistics=',h_stat)\n",
        "print('p_value=',p_value_kru)\n",
        "\n",
        "if p_value_kru>alpha:\n",
        "  print('We fail to reject the null hypothesis. Hence, Number of cycles rented in different seasons are same')\n",
        "else:\n",
        "  print('We reject the null hypothesis. Number of cycles rented in different seasons are different')"
      ],
      "metadata": {
        "colab": {
          "base_uri": "https://localhost:8080/"
        },
        "id": "0XvCpmw28lWo",
        "outputId": "498c19ba-6d6a-418c-ebdd-f10a6762fc4f"
      },
      "execution_count": null,
      "outputs": [
        {
          "output_type": "stream",
          "name": "stdout",
          "text": [
            "statistics= 620.3738431848594\n",
            "p_value= 3.8591953474560567e-134\n",
            "We reject the null hypothesis. Number of cycles rented in different seasons are different\n"
          ]
        }
      ]
    },
    {
      "cell_type": "markdown",
      "source": [
        "In both the tests (ANOVA and Kruskal test), we can see that the number of cycles rented in different seasons are different as the p_values is less than the aplha value (0.05)"
      ],
      "metadata": {
        "id": "uXRj5ZII9IPX"
      }
    },
    {
      "cell_type": "markdown",
      "source": [
        "3. No. of cycles rented in different weather are same or different\n",
        "\n",
        "\n",
        "\n",
        "*Here we set the null and alternate hypothesis as below:*\n",
        "\n",
        "*H0 = Number of cycles rented in different weather are same*\n",
        "\n",
        "*H1 = Number of cycles rented in different weather are different*\n",
        "\n",
        "*Let us assume the standard significance level for the hypothesis i.e., 5%*"
      ],
      "metadata": {
        "id": "2DXa0B3RIOnR"
      }
    },
    {
      "cell_type": "code",
      "source": [
        "# Check if the data is Gaussian Distribution or not\n",
        "'''\n",
        "Here we will use Shapiro test to check the gaussian distribution assuming that the data is independent and identically distributed.\n",
        "We have also observed that weather 4 have less than 3 entries, hence it may not give appropriate results.\n",
        "\n",
        "H0 = Data has Gaussian Distribution\n",
        "H1 = Data does not have Gaussian Distribution\n",
        "alpha = 0.05\n",
        "'''\n",
        "weather_1= df[df['weather']==1]\n",
        "weather_2= df[df['weather']==2]\n",
        "weather_3= df[df['weather']==3]\n",
        "weather_4= df[df['weather']==4]\n",
        "\n",
        "alpha=0.05\n",
        "\n",
        "statistics_w1,p_value_w1= shapiro(weather_1['count'])\n",
        "\n",
        "print('statistics=',statistics_w1)\n",
        "print('p_value=',p_value_w1)\n",
        "\n",
        "if p_value_w1>alpha:\n",
        "  print('weather 1 Data has Gaussian Distribution')\n",
        "else:\n",
        "  print('weather 1 Data does not have Gaussian Distribution')\n",
        "\n",
        "\n",
        "statistics_w2,p_value_w2= shapiro(weather_2['count'])\n",
        "\n",
        "print('statistics=',statistics_w2)\n",
        "print('p_value=',p_value_w2)\n",
        "\n",
        "if p_value_w2>alpha:\n",
        "  print('weather 2 Data has Gaussian Distribution')\n",
        "else:\n",
        "  print('weather 2 Data does not have Gaussian Distribution')\n",
        "\n",
        "\n",
        "statistics_w3,p_value_w3= shapiro(weather_3['count'])\n",
        "\n",
        "print('statistics=',statistics_w3)\n",
        "print('p_value=',p_value_w3)\n",
        "\n",
        "if p_value_w3>alpha:\n",
        "  print('weather 3 Data has Gaussian Distribution')\n",
        "else:\n",
        "  print('weather 3 Data does not have Gaussian Distribution')\n",
        "\n",
        "try:\n",
        "  statistics_w4,p_value_w4= shapiro(weather_4['count'])\n",
        "\n",
        "  print('statistics=',statistics_w4)\n",
        "  print('p_value=',p_value_w4)\n",
        "\n",
        "\n",
        "  if p_value_w4>alpha:\n",
        "    print('weather 4 Data has Gaussian Distribution')\n",
        "  else:\n",
        "    print('weather 4 Data does not have Gaussian Distribution')\n",
        "except:\n",
        "  print('Weather 4 has less than 3 entries, It may not give appropriate result')"
      ],
      "metadata": {
        "id": "x7VoQPmSIOny",
        "colab": {
          "base_uri": "https://localhost:8080/"
        },
        "outputId": "dc689800-1ac8-4415-d40d-2d63ead1e6be"
      },
      "execution_count": null,
      "outputs": [
        {
          "output_type": "stream",
          "name": "stdout",
          "text": [
            "statistics= 0.9115554690361023\n",
            "p_value= 0.0\n",
            "weather 1 Data does not have Gaussian Distribution\n",
            "statistics= 0.9032399654388428\n",
            "p_value= 9.532115602307598e-39\n",
            "weather 2 Data does not have Gaussian Distribution\n",
            "statistics= 0.8118053674697876\n",
            "p_value= 2.4638935234478347e-30\n",
            "weather 3 Data does not have Gaussian Distribution\n",
            "Weather 4 has less than 3 entries, It may not give appropriate result\n"
          ]
        },
        {
          "output_type": "stream",
          "name": "stderr",
          "text": [
            "/usr/local/lib/python3.10/dist-packages/scipy/stats/_morestats.py:1816: UserWarning: p-value may not be accurate for N > 5000.\n",
            "  warnings.warn(\"p-value may not be accurate for N > 5000.\")\n"
          ]
        }
      ]
    },
    {
      "cell_type": "code",
      "source": [
        "# Visual distribution of data\n",
        "'''\n",
        "Weather 4 has only 2 entries. Hence, the graph is in approriate\n",
        "'''\n",
        "\n",
        "plt.figure(figsize=(15,5))\n",
        "plt.subplot(2,2,1)\n",
        "sns.histplot(weather_1,x='count')\n",
        "\n",
        "plt.subplot(2,2,2)\n",
        "sns.histplot(weather_2,x='count')\n",
        "\n",
        "plt.subplot(2,2,3)\n",
        "sns.histplot(weather_3,x='count')\n",
        "\n",
        "plt.subplot(2,2,4)\n",
        "sns.histplot(weather_4,x='count')"
      ],
      "metadata": {
        "id": "HxEf7w6TIOn0",
        "colab": {
          "base_uri": "https://localhost:8080/",
          "height": 482
        },
        "outputId": "d6ac5e96-7145-4b17-c717-5b2019278422"
      },
      "execution_count": null,
      "outputs": [
        {
          "output_type": "execute_result",
          "data": {
            "text/plain": [
              "<Axes: xlabel='count', ylabel='Count'>"
            ]
          },
          "metadata": {},
          "execution_count": 198
        },
        {
          "output_type": "display_data",
          "data": {
            "text/plain": [
              "<Figure size 1500x500 with 4 Axes>"
            ],
            "image/png": "[encoded data removed]"
          },
          "metadata": {}
        }
      ]
    },
    {
      "cell_type": "code",
      "source": [
        "# Check variance of the data\n",
        "'''\n",
        "Since the data is normally distributed, we will use Levene Test to check the variance.\n",
        "\n",
        "H0 = Variances are equal\n",
        "H1 = Variances are not equal\n",
        "'''\n",
        "alpha=0.05\n",
        "\n",
        "statistics_var3,p_value_var3= levene(weather_1['count'],weather_2['count'],weather_3['count'],weather_4['count'])\n",
        "\n",
        "print('statistics=',statistics_var3)\n",
        "print('p_value=',p_value_var3)\n",
        "\n",
        "if p_value_var3>alpha:\n",
        "  print('We fail to reject the null hypothesis. Hence, variances are equal')\n",
        "else:\n",
        "  print('Reject null hypothesis. Variances are not equal')"
      ],
      "metadata": {
        "id": "vy6waHp8IOn1",
        "colab": {
          "base_uri": "https://localhost:8080/"
        },
        "outputId": "9b083937-9d0d-4d4e-e5de-0bc0c5d7f3a0"
      },
      "execution_count": null,
      "outputs": [
        {
          "output_type": "stream",
          "name": "stdout",
          "text": [
            "statistics= 58.699303151914386\n",
            "p_value= 1.2566715363063703e-37\n",
            "Reject null hypothesis. Variances are not equal\n"
          ]
        }
      ]
    },
    {
      "cell_type": "markdown",
      "source": [
        "According to the tests, the data is not a Gaussian distribution and variances are also not equal. Since the casestudy wants us to keep doing the test, we will perfor ANOVA test to check the hypothesis. However, we will also perform the Krushkal-Wallis test and see if it gives the same result"
      ],
      "metadata": {
        "id": "nQy_-9DSKo6T"
      }
    },
    {
      "cell_type": "code",
      "source": [
        "'''\n",
        "We should use ANOVA test to see if 'Number of cycles rented in different seasons are same or different'. Below are the null and alternate hypothesis:\n",
        "\n",
        "H0 = Number of cycles rented in different Weathers are same\n",
        "H1 = Number of cycles rented in different Weathers are different\n",
        "alpha = 0.05\n",
        "'''\n",
        "alpha=0.05\n",
        "\n",
        "f_stat_w,p_value_w= f_oneway(season_1['count'],season_2['count'],season_3['count'],season_4['count'])\n",
        "\n",
        "print('statistics=',f_stat_w)\n",
        "print('p_value=',p_value_w)\n",
        "\n",
        "if p_value_w>alpha:\n",
        "  print('We fail to reject the null hypothesis. Hence, Number of cycles rented in different weathers are same')\n",
        "else:\n",
        "  print('We reject the null hypothesis. Number of cycles rented in different weathers are different')"
      ],
      "metadata": {
        "colab": {
          "base_uri": "https://localhost:8080/"
        },
        "id": "ZV8V4O6jBuQI",
        "outputId": "cc289c12-5d23-418e-c216-4fc9f8eca08a"
      },
      "execution_count": null,
      "outputs": [
        {
          "output_type": "stream",
          "name": "stdout",
          "text": [
            "statistics= 217.63287180093394\n",
            "p_value= 5.292326890121564e-137\n",
            "We reject the null hypothesis. Number of cycles rented in different weathers are different\n"
          ]
        }
      ]
    },
    {
      "cell_type": "code",
      "source": [
        "'''\n",
        "As we know that if the requirements of ANOVA test fails, we can do Kruskal Wallis Test to check the hypothesis.\n",
        "\n",
        "H0 = Number of cycles rented in different Weathers are same\n",
        "H1 = Number of cycles rented in different Weathers are different\n",
        "alpha = 0.05\n",
        "\n",
        "'''\n",
        "from scipy.stats import kruskal\n",
        "\n",
        "alpha=0.05\n",
        "\n",
        "h_stat_w,p_value_kru_w= kruskal(season_1['count'],season_2['count'],season_3['count'],season_4['count'])\n",
        "\n",
        "print('statistics=',h_stat_w)\n",
        "print('p_value=',p_value_kru_w)\n",
        "\n",
        "if p_value_kru_w>alpha:\n",
        "  print('We fail to reject the null hypothesis. Hence, Number of cycles rented in different weathers are same')\n",
        "else:\n",
        "  print('We reject the null hypothesis. Number of cycles rented in different weathers are different')"
      ],
      "metadata": {
        "colab": {
          "base_uri": "https://localhost:8080/"
        },
        "id": "0dsHnWwzBcMm",
        "outputId": "f99da369-fd36-4afb-acd8-efcb04e7883c"
      },
      "execution_count": null,
      "outputs": [
        {
          "output_type": "stream",
          "name": "stdout",
          "text": [
            "statistics= 620.3738431848594\n",
            "p_value= 3.8591953474560567e-134\n",
            "We reject the null hypothesis. Number of cycles rented in different weathers are different\n"
          ]
        }
      ]
    },
    {
      "cell_type": "markdown",
      "source": [
        "In both the tests (ANOVA and Kruskal test), we can see that the number of cycles rented in different weathers are different as the p_values is less than the aplha value (0.05)"
      ],
      "metadata": {
        "id": "V2_MrZZGLKEV"
      }
    },
    {
      "cell_type": "markdown",
      "source": [
        "3. Weathers are dependent on seasons or not\n",
        "\n",
        "\n",
        "\n",
        "*Here we set the null and alternate hypothesis as below:*\n",
        "\n",
        "*H0 = Weathers and seasons are independent*\n",
        "\n",
        "*H1 = Weathers and seasons are dependent*\n",
        "\n",
        "*Let us assume the standard significance level for the hypothesis i.e., 5%*"
      ],
      "metadata": {
        "id": "nkC5LKQpJY_p"
      }
    },
    {
      "cell_type": "code",
      "source": [
        "'''\n",
        "Since weather and season are two categorical variables, we will check the dependency of these two using Chi-squared test.\n",
        "For Chi-squaredtest we take following assumptions:\n",
        "\n",
        "1. All observations are independent\n",
        "2. Cells in the contingencytables are mutually exclusive\n",
        "\n",
        "Below are the null and alternate hypothesisfor the test:\n",
        "H0 = Weather and seasons are independent of each other\n",
        "H1 = Weather and season are dependent on each other\n",
        "'''\n",
        "contingency= pd.crosstab(df['weather'],df['season'])\n",
        "\n",
        "print(contingency)\n",
        "chi_test=chi2_contingency(contingency)\n",
        "\n",
        "p_value_chi= chi_test[1]\n",
        "print('p_value is ',p_value_chi)\n",
        "\n",
        "alpha=0.05\n",
        "\n",
        "if p_value_chi>alpha:\n",
        "  print('We fail to reject the null hypothesis. Hence, weather and seasons are independent of each other')\n",
        "else:\n",
        "  print(' We reject the null hypothesis. Weather and season are dependent on each other.')\n"
      ],
      "metadata": {
        "id": "5Bmd7PaQJZAD",
        "colab": {
          "base_uri": "https://localhost:8080/"
        },
        "outputId": "c4e21853-89b0-406a-ce3d-112ece89e17a"
      },
      "execution_count": null,
      "outputs": [
        {
          "output_type": "stream",
          "name": "stdout",
          "text": [
            "season      1     2     3     4\n",
            "weather                        \n",
            "1        1744  1721  1843  1657\n",
            "2         714   690   579   787\n",
            "3         211   223   195   221\n",
            "4           1     0     0     0\n",
            "p_value is  3.643774770920206e-07\n",
            " We reject the null hypothesis. Weather and season are dependent on each other.\n"
          ]
        }
      ]
    },
    {
      "cell_type": "markdown",
      "source": [
        "Since p_value of the chi2_contingency test is lesst than the alpha value (0.05), we reject the null hypothesis and conclude that  weather and seasons are depenton each other."
      ],
      "metadata": {
        "id": "SPwaOiLWLY45"
      }
    },
    {
      "cell_type": "code",
      "source": [],
      "metadata": {
        "id": "ttRJZW0UFOy1"
      },
      "execution_count": null,
      "outputs": []
    },
    {
      "cell_type": "markdown",
      "source": [
        "## **Insights & Recomendations:**\n",
        "\n",
        "\n",
        "*   There are total 10886 rows and 12 columns in the dataset. After removing the outliers, we are left with 10583 rows.\n",
        "\n",
        "*   There are no null values or duplicate valuesin the dataset.\n",
        "\n",
        "*   We can observe that working day and holiday has strong negative correlation. casual users and counts are moderately correlated. Humidity and temperature has moderately negative correlation.\n",
        "\n",
        "*   From the graphical representation ofunivariate and bivariate variables, we can conclude that bike renting is at peak in the evening around 5 to 6 pm. People rent more bikes in fall and then summer and winter. There is slight difference in the bike renting on working and non-working days. Lastly, people prefer to rent bike more on clear days or when its cloudy or partly cloudy. As per the histplot, people tend to rent bikes when wind speed is low, and humidity is moderate.\n",
        "\n",
        "1.   Company should get more bikes in stock during 5 to 6 pm asthe demand tend to be high at tha time.\n",
        "2.   Fall season has the high demand for rentals bike than any other seasions. Comapny should focus  on that\n",
        "\n",
        "3.   Stock of bike should be more on clear and semi cloudy days, when its moderate humidity and when the wind speed is low.\n",
        "\n",
        "*   In the hypothesis testing for 'Working day effect on number of electric cycle rented', we can see that the working day and non-working day data are not normally distributed and the variances are not same. We have performed both 2sample ttest and Mann Whitney U Test.\n",
        "\n",
        "As per Mann Whitney U Test, we could conclude that the working days and non-working days have no impact on the electric bike rental. However, 2 sample ttest shows that Working day has effect on electric bike rentals.\n",
        "\n",
        "*   In the hypothesis testing for 'No. of cycles rented in different seasons are same or different', the data is not a Gaussian distribution and variances are also not equal. It is right skewed. After performing both the tests i.e., ANOVA test and Krushkal-Wallis test, we could conclude that Number of cycles rented in different seasons are different\n",
        "\n",
        "\n",
        "*   In the hypothesis testing for 'No. of cycles rented in different weather are same or different', the data is not a Gaussian distribution and variances are also not equal. It is right skewed. After performing both the tests i.e., ANOVA test and Krushkal-Wallis test, we could conclude that Number of cycles rented in different seasons are different\n",
        "\n",
        "*   In the last hypothesis testing for weather and season dependency, after doing the chi2_contingency test, we conclude that Weather and season are dependent on each other.\n",
        "\n",
        "\n",
        "\n",
        "\n",
        "\n",
        "\n",
        "\n",
        "\n",
        "\n",
        "\n",
        "\n"
      ],
      "metadata": {
        "id": "id5OurWoNBL3"
      }
    },
    {
      "cell_type": "code",
      "source": [],
      "metadata": {
        "id": "xGgsbGs0OBu3"
      },
      "execution_count": null,
      "outputs": []
    }
  ]
}